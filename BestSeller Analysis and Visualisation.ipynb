{
 "cells": [
  {
   "cell_type": "code",
   "execution_count": 1,
   "metadata": {
    "metadata": {}
   },
   "outputs": [
    {
     "name": "stderr",
     "output_type": "stream",
     "text": [
      "c:\\Python310\\lib\\site-packages\\scipy\\__init__.py:155: UserWarning: A NumPy version >=1.18.5 and <1.25.0 is required for this version of SciPy (detected version 1.26.4\n",
      "  warnings.warn(f\"A NumPy version >={np_minversion} and <{np_maxversion}\"\n"
     ]
    }
   ],
   "source": [
    "import numpy as np\n",
    "import pandas as pd\n",
    "import matplotlib.pyplot as plt\n",
    "import seaborn as sns\n",
    "import plotly.express as px\n",
    "from wordcloud import WordCloud\n"
   ]
  },
  {
   "cell_type": "code",
   "execution_count": 2,
   "metadata": {
    "metadata": {}
   },
   "outputs": [],
   "source": [
    "books_df = pd.read_csv(\"bestsellers.csv\")"
   ]
  },
  {
   "cell_type": "code",
   "execution_count": 3,
   "metadata": {
    "metadata": {}
   },
   "outputs": [
    {
     "data": {
      "text/html": [
       "<div>\n",
       "<style scoped>\n",
       "    .dataframe tbody tr th:only-of-type {\n",
       "        vertical-align: middle;\n",
       "    }\n",
       "\n",
       "    .dataframe tbody tr th {\n",
       "        vertical-align: top;\n",
       "    }\n",
       "\n",
       "    .dataframe thead th {\n",
       "        text-align: right;\n",
       "    }\n",
       "</style>\n",
       "<table border=\"1\" class=\"dataframe\">\n",
       "  <thead>\n",
       "    <tr style=\"text-align: right;\">\n",
       "      <th></th>\n",
       "      <th>Name</th>\n",
       "      <th>Author</th>\n",
       "      <th>User Rating</th>\n",
       "      <th>Reviews</th>\n",
       "      <th>Price</th>\n",
       "      <th>Year</th>\n",
       "      <th>Genre</th>\n",
       "    </tr>\n",
       "  </thead>\n",
       "  <tbody>\n",
       "    <tr>\n",
       "      <th>0</th>\n",
       "      <td>10-Day Green Smoothie Cleanse</td>\n",
       "      <td>JJ Smith</td>\n",
       "      <td>4.7</td>\n",
       "      <td>17350</td>\n",
       "      <td>8</td>\n",
       "      <td>2016</td>\n",
       "      <td>Non Fiction</td>\n",
       "    </tr>\n",
       "    <tr>\n",
       "      <th>1</th>\n",
       "      <td>11/22/63: A Novel</td>\n",
       "      <td>Stephen King</td>\n",
       "      <td>4.6</td>\n",
       "      <td>2052</td>\n",
       "      <td>22</td>\n",
       "      <td>2011</td>\n",
       "      <td>Fiction</td>\n",
       "    </tr>\n",
       "    <tr>\n",
       "      <th>2</th>\n",
       "      <td>12 Rules for Life: An Antidote to Chaos</td>\n",
       "      <td>Jordan B. Peterson</td>\n",
       "      <td>4.7</td>\n",
       "      <td>18979</td>\n",
       "      <td>15</td>\n",
       "      <td>2018</td>\n",
       "      <td>Non Fiction</td>\n",
       "    </tr>\n",
       "    <tr>\n",
       "      <th>3</th>\n",
       "      <td>1984 (Signet Classics)</td>\n",
       "      <td>George Orwell</td>\n",
       "      <td>4.7</td>\n",
       "      <td>21424</td>\n",
       "      <td>6</td>\n",
       "      <td>2017</td>\n",
       "      <td>Fiction</td>\n",
       "    </tr>\n",
       "    <tr>\n",
       "      <th>4</th>\n",
       "      <td>5,000 Awesome Facts (About Everything!) (Natio...</td>\n",
       "      <td>National Geographic Kids</td>\n",
       "      <td>4.8</td>\n",
       "      <td>7665</td>\n",
       "      <td>12</td>\n",
       "      <td>2019</td>\n",
       "      <td>Non Fiction</td>\n",
       "    </tr>\n",
       "    <tr>\n",
       "      <th>...</th>\n",
       "      <td>...</td>\n",
       "      <td>...</td>\n",
       "      <td>...</td>\n",
       "      <td>...</td>\n",
       "      <td>...</td>\n",
       "      <td>...</td>\n",
       "      <td>...</td>\n",
       "    </tr>\n",
       "    <tr>\n",
       "      <th>545</th>\n",
       "      <td>Wrecking Ball (Diary of a Wimpy Kid Book 14)</td>\n",
       "      <td>Jeff Kinney</td>\n",
       "      <td>4.9</td>\n",
       "      <td>9413</td>\n",
       "      <td>8</td>\n",
       "      <td>2019</td>\n",
       "      <td>Fiction</td>\n",
       "    </tr>\n",
       "    <tr>\n",
       "      <th>546</th>\n",
       "      <td>You Are a Badass: How to Stop Doubting Your Gr...</td>\n",
       "      <td>Jen Sincero</td>\n",
       "      <td>4.7</td>\n",
       "      <td>14331</td>\n",
       "      <td>8</td>\n",
       "      <td>2016</td>\n",
       "      <td>Non Fiction</td>\n",
       "    </tr>\n",
       "    <tr>\n",
       "      <th>547</th>\n",
       "      <td>You Are a Badass: How to Stop Doubting Your Gr...</td>\n",
       "      <td>Jen Sincero</td>\n",
       "      <td>4.7</td>\n",
       "      <td>14331</td>\n",
       "      <td>8</td>\n",
       "      <td>2017</td>\n",
       "      <td>Non Fiction</td>\n",
       "    </tr>\n",
       "    <tr>\n",
       "      <th>548</th>\n",
       "      <td>You Are a Badass: How to Stop Doubting Your Gr...</td>\n",
       "      <td>Jen Sincero</td>\n",
       "      <td>4.7</td>\n",
       "      <td>14331</td>\n",
       "      <td>8</td>\n",
       "      <td>2018</td>\n",
       "      <td>Non Fiction</td>\n",
       "    </tr>\n",
       "    <tr>\n",
       "      <th>549</th>\n",
       "      <td>You Are a Badass: How to Stop Doubting Your Gr...</td>\n",
       "      <td>Jen Sincero</td>\n",
       "      <td>4.7</td>\n",
       "      <td>14331</td>\n",
       "      <td>8</td>\n",
       "      <td>2019</td>\n",
       "      <td>Non Fiction</td>\n",
       "    </tr>\n",
       "  </tbody>\n",
       "</table>\n",
       "<p>550 rows × 7 columns</p>\n",
       "</div>"
      ],
      "text/plain": [
       "                                                  Name  \\\n",
       "0                        10-Day Green Smoothie Cleanse   \n",
       "1                                    11/22/63: A Novel   \n",
       "2              12 Rules for Life: An Antidote to Chaos   \n",
       "3                               1984 (Signet Classics)   \n",
       "4    5,000 Awesome Facts (About Everything!) (Natio...   \n",
       "..                                                 ...   \n",
       "545       Wrecking Ball (Diary of a Wimpy Kid Book 14)   \n",
       "546  You Are a Badass: How to Stop Doubting Your Gr...   \n",
       "547  You Are a Badass: How to Stop Doubting Your Gr...   \n",
       "548  You Are a Badass: How to Stop Doubting Your Gr...   \n",
       "549  You Are a Badass: How to Stop Doubting Your Gr...   \n",
       "\n",
       "                       Author  User Rating  Reviews  Price  Year        Genre  \n",
       "0                    JJ Smith          4.7    17350      8  2016  Non Fiction  \n",
       "1                Stephen King          4.6     2052     22  2011      Fiction  \n",
       "2          Jordan B. Peterson          4.7    18979     15  2018  Non Fiction  \n",
       "3               George Orwell          4.7    21424      6  2017      Fiction  \n",
       "4    National Geographic Kids          4.8     7665     12  2019  Non Fiction  \n",
       "..                        ...          ...      ...    ...   ...          ...  \n",
       "545               Jeff Kinney          4.9     9413      8  2019      Fiction  \n",
       "546               Jen Sincero          4.7    14331      8  2016  Non Fiction  \n",
       "547               Jen Sincero          4.7    14331      8  2017  Non Fiction  \n",
       "548               Jen Sincero          4.7    14331      8  2018  Non Fiction  \n",
       "549               Jen Sincero          4.7    14331      8  2019  Non Fiction  \n",
       "\n",
       "[550 rows x 7 columns]"
      ]
     },
     "execution_count": 3,
     "metadata": {},
     "output_type": "execute_result"
    }
   ],
   "source": [
    "books_df"
   ]
  },
  {
   "cell_type": "markdown",
   "metadata": {},
   "source": [
    "Printing details about columns of the dataset"
   ]
  },
  {
   "cell_type": "code",
   "execution_count": 4,
   "metadata": {
    "metadata": {}
   },
   "outputs": [
    {
     "name": "stdout",
     "output_type": "stream",
     "text": [
      "<class 'pandas.core.frame.DataFrame'>\n",
      "RangeIndex: 550 entries, 0 to 549\n",
      "Data columns (total 7 columns):\n",
      " #   Column       Non-Null Count  Dtype  \n",
      "---  ------       --------------  -----  \n",
      " 0   Name         550 non-null    object \n",
      " 1   Author       550 non-null    object \n",
      " 2   User Rating  550 non-null    float64\n",
      " 3   Reviews      550 non-null    int64  \n",
      " 4   Price        550 non-null    int64  \n",
      " 5   Year         550 non-null    int64  \n",
      " 6   Genre        550 non-null    object \n",
      "dtypes: float64(1), int64(3), object(3)\n",
      "memory usage: 30.2+ KB\n"
     ]
    }
   ],
   "source": [
    "books_df.info()"
   ]
  },
  {
   "cell_type": "markdown",
   "metadata": {},
   "source": [
    "Printing number of rows and columns in our dataset"
   ]
  },
  {
   "cell_type": "code",
   "execution_count": 5,
   "metadata": {
    "metadata": {}
   },
   "outputs": [
    {
     "name": "stdout",
     "output_type": "stream",
     "text": [
      "No of rows :  550 \n",
      "No of columns :  7\n"
     ]
    }
   ],
   "source": [
    "rows = len(books_df)\n",
    "cols = len(books_df.columns)\n",
    "print(\"No of rows : \",rows,\"\\nNo of columns : \",cols)"
   ]
  },
  {
   "cell_type": "markdown",
   "metadata": {},
   "source": [
    "Finding NaN values in the file"
   ]
  },
  {
   "cell_type": "code",
   "execution_count": 6,
   "metadata": {
    "metadata": {}
   },
   "outputs": [
    {
     "data": {
      "text/plain": [
       "Name           0\n",
       "Author         0\n",
       "User Rating    0\n",
       "Reviews        0\n",
       "Price          0\n",
       "Year           0\n",
       "Genre          0\n",
       "dtype: int64"
      ]
     },
     "execution_count": 6,
     "metadata": {},
     "output_type": "execute_result"
    }
   ],
   "source": [
    "books_df.isna().sum()"
   ]
  },
  {
   "cell_type": "markdown",
   "metadata": {},
   "source": [
    "Finding duplicate records in the file"
   ]
  },
  {
   "cell_type": "code",
   "execution_count": 7,
   "metadata": {
    "metadata": {}
   },
   "outputs": [
    {
     "data": {
      "text/plain": [
       "0"
      ]
     },
     "execution_count": 7,
     "metadata": {},
     "output_type": "execute_result"
    }
   ],
   "source": [
    "books_df.duplicated().sum()"
   ]
  },
  {
   "cell_type": "markdown",
   "metadata": {},
   "source": [
    "Printing number of authors and books"
   ]
  },
  {
   "cell_type": "code",
   "execution_count": 8,
   "metadata": {
    "metadata": {}
   },
   "outputs": [
    {
     "name": "stdout",
     "output_type": "stream",
     "text": [
      "Number of books:  248 \n",
      "Number of authors:  351\n"
     ]
    }
   ],
   "source": [
    "No_of_authors = len(set(books_df['Name']))\n",
    "No_of_books = len(set(books_df['Author']))\n",
    "print(\"Number of books: \",No_of_books,\"\\nNumber of authors: \",No_of_authors)"
   ]
  },
  {
   "cell_type": "markdown",
   "metadata": {},
   "source": [
    "Number of unique records in the dataframe"
   ]
  },
  {
   "cell_type": "code",
   "execution_count": 9,
   "metadata": {
    "metadata": {}
   },
   "outputs": [
    {
     "data": {
      "text/plain": [
       "Name           351\n",
       "Author         248\n",
       "User Rating     14\n",
       "Reviews        346\n",
       "Price           40\n",
       "Year            11\n",
       "Genre            2\n",
       "dtype: int64"
      ]
     },
     "execution_count": 9,
     "metadata": {},
     "output_type": "execute_result"
    }
   ],
   "source": [
    "books_df.nunique()"
   ]
  },
  {
   "cell_type": "markdown",
   "metadata": {},
   "source": [
    "Statistical Representation of the dataframe"
   ]
  },
  {
   "cell_type": "code",
   "execution_count": 10,
   "metadata": {
    "metadata": {}
   },
   "outputs": [
    {
     "data": {
      "text/html": [
       "<div>\n",
       "<style scoped>\n",
       "    .dataframe tbody tr th:only-of-type {\n",
       "        vertical-align: middle;\n",
       "    }\n",
       "\n",
       "    .dataframe tbody tr th {\n",
       "        vertical-align: top;\n",
       "    }\n",
       "\n",
       "    .dataframe thead th {\n",
       "        text-align: right;\n",
       "    }\n",
       "</style>\n",
       "<table border=\"1\" class=\"dataframe\">\n",
       "  <thead>\n",
       "    <tr style=\"text-align: right;\">\n",
       "      <th></th>\n",
       "      <th>User Rating</th>\n",
       "      <th>Reviews</th>\n",
       "      <th>Price</th>\n",
       "      <th>Year</th>\n",
       "    </tr>\n",
       "  </thead>\n",
       "  <tbody>\n",
       "    <tr>\n",
       "      <th>count</th>\n",
       "      <td>550.000000</td>\n",
       "      <td>550.000000</td>\n",
       "      <td>550.000000</td>\n",
       "      <td>550.000000</td>\n",
       "    </tr>\n",
       "    <tr>\n",
       "      <th>mean</th>\n",
       "      <td>4.618364</td>\n",
       "      <td>11953.281818</td>\n",
       "      <td>13.100000</td>\n",
       "      <td>2014.000000</td>\n",
       "    </tr>\n",
       "    <tr>\n",
       "      <th>std</th>\n",
       "      <td>0.226980</td>\n",
       "      <td>11731.132017</td>\n",
       "      <td>10.842262</td>\n",
       "      <td>3.165156</td>\n",
       "    </tr>\n",
       "    <tr>\n",
       "      <th>min</th>\n",
       "      <td>3.300000</td>\n",
       "      <td>37.000000</td>\n",
       "      <td>0.000000</td>\n",
       "      <td>2009.000000</td>\n",
       "    </tr>\n",
       "    <tr>\n",
       "      <th>25%</th>\n",
       "      <td>4.500000</td>\n",
       "      <td>4058.000000</td>\n",
       "      <td>7.000000</td>\n",
       "      <td>2011.000000</td>\n",
       "    </tr>\n",
       "    <tr>\n",
       "      <th>50%</th>\n",
       "      <td>4.700000</td>\n",
       "      <td>8580.000000</td>\n",
       "      <td>11.000000</td>\n",
       "      <td>2014.000000</td>\n",
       "    </tr>\n",
       "    <tr>\n",
       "      <th>75%</th>\n",
       "      <td>4.800000</td>\n",
       "      <td>17253.250000</td>\n",
       "      <td>16.000000</td>\n",
       "      <td>2017.000000</td>\n",
       "    </tr>\n",
       "    <tr>\n",
       "      <th>max</th>\n",
       "      <td>4.900000</td>\n",
       "      <td>87841.000000</td>\n",
       "      <td>105.000000</td>\n",
       "      <td>2019.000000</td>\n",
       "    </tr>\n",
       "  </tbody>\n",
       "</table>\n",
       "</div>"
      ],
      "text/plain": [
       "       User Rating       Reviews       Price         Year\n",
       "count   550.000000    550.000000  550.000000   550.000000\n",
       "mean      4.618364  11953.281818   13.100000  2014.000000\n",
       "std       0.226980  11731.132017   10.842262     3.165156\n",
       "min       3.300000     37.000000    0.000000  2009.000000\n",
       "25%       4.500000   4058.000000    7.000000  2011.000000\n",
       "50%       4.700000   8580.000000   11.000000  2014.000000\n",
       "75%       4.800000  17253.250000   16.000000  2017.000000\n",
       "max       4.900000  87841.000000  105.000000  2019.000000"
      ]
     },
     "execution_count": 10,
     "metadata": {},
     "output_type": "execute_result"
    }
   ],
   "source": [
    "books_df.describe()"
   ]
  },
  {
   "cell_type": "markdown",
   "metadata": {},
   "source": [
    "Description of object type columns of dataframe"
   ]
  },
  {
   "cell_type": "code",
   "execution_count": 11,
   "metadata": {
    "metadata": {}
   },
   "outputs": [
    {
     "name": "stdout",
     "output_type": "stream",
     "text": [
      "count                                                   550\n",
      "unique                                                  351\n",
      "top       Publication Manual of the American Psychologic...\n",
      "freq                                                     10\n",
      "Name: Name, dtype: object\n",
      "count             550\n",
      "unique            248\n",
      "top       Jeff Kinney\n",
      "freq               12\n",
      "Name: Author, dtype: object\n",
      "count             550\n",
      "unique              2\n",
      "top       Non Fiction\n",
      "freq              310\n",
      "Name: Genre, dtype: object\n"
     ]
    }
   ],
   "source": [
    "for i in books_df.columns:\n",
    "    if books_df[i].dtype==object:\n",
    "        print(books_df[i].describe())"
   ]
  },
  {
   "cell_type": "markdown",
   "metadata": {},
   "source": [
    "The above output shows that our dataset has repeated authors and books"
   ]
  },
  {
   "cell_type": "markdown",
   "metadata": {},
   "source": [
    "Print book and author name which has been best-seller for most of the years"
   ]
  },
  {
   "cell_type": "code",
   "execution_count": 12,
   "metadata": {
    "metadata": {}
   },
   "outputs": [
    {
     "data": {
      "text/html": [
       "<div>\n",
       "<style scoped>\n",
       "    .dataframe tbody tr th:only-of-type {\n",
       "        vertical-align: middle;\n",
       "    }\n",
       "\n",
       "    .dataframe tbody tr th {\n",
       "        vertical-align: top;\n",
       "    }\n",
       "\n",
       "    .dataframe thead th {\n",
       "        text-align: right;\n",
       "    }\n",
       "</style>\n",
       "<table border=\"1\" class=\"dataframe\">\n",
       "  <thead>\n",
       "    <tr style=\"text-align: right;\">\n",
       "      <th></th>\n",
       "      <th>Name</th>\n",
       "      <th>Author</th>\n",
       "      <th>Year</th>\n",
       "    </tr>\n",
       "  </thead>\n",
       "  <tbody>\n",
       "    <tr>\n",
       "      <th>271</th>\n",
       "      <td>Publication Manual of the American Psychologic...</td>\n",
       "      <td>American Psychological Association</td>\n",
       "      <td>2009</td>\n",
       "    </tr>\n",
       "    <tr>\n",
       "      <th>272</th>\n",
       "      <td>Publication Manual of the American Psychologic...</td>\n",
       "      <td>American Psychological Association</td>\n",
       "      <td>2010</td>\n",
       "    </tr>\n",
       "    <tr>\n",
       "      <th>273</th>\n",
       "      <td>Publication Manual of the American Psychologic...</td>\n",
       "      <td>American Psychological Association</td>\n",
       "      <td>2011</td>\n",
       "    </tr>\n",
       "    <tr>\n",
       "      <th>274</th>\n",
       "      <td>Publication Manual of the American Psychologic...</td>\n",
       "      <td>American Psychological Association</td>\n",
       "      <td>2012</td>\n",
       "    </tr>\n",
       "    <tr>\n",
       "      <th>275</th>\n",
       "      <td>Publication Manual of the American Psychologic...</td>\n",
       "      <td>American Psychological Association</td>\n",
       "      <td>2013</td>\n",
       "    </tr>\n",
       "    <tr>\n",
       "      <th>276</th>\n",
       "      <td>Publication Manual of the American Psychologic...</td>\n",
       "      <td>American Psychological Association</td>\n",
       "      <td>2014</td>\n",
       "    </tr>\n",
       "    <tr>\n",
       "      <th>277</th>\n",
       "      <td>Publication Manual of the American Psychologic...</td>\n",
       "      <td>American Psychological Association</td>\n",
       "      <td>2015</td>\n",
       "    </tr>\n",
       "    <tr>\n",
       "      <th>278</th>\n",
       "      <td>Publication Manual of the American Psychologic...</td>\n",
       "      <td>American Psychological Association</td>\n",
       "      <td>2016</td>\n",
       "    </tr>\n",
       "    <tr>\n",
       "      <th>279</th>\n",
       "      <td>Publication Manual of the American Psychologic...</td>\n",
       "      <td>American Psychological Association</td>\n",
       "      <td>2017</td>\n",
       "    </tr>\n",
       "    <tr>\n",
       "      <th>280</th>\n",
       "      <td>Publication Manual of the American Psychologic...</td>\n",
       "      <td>American Psychological Association</td>\n",
       "      <td>2018</td>\n",
       "    </tr>\n",
       "  </tbody>\n",
       "</table>\n",
       "</div>"
      ],
      "text/plain": [
       "                                                  Name  \\\n",
       "271  Publication Manual of the American Psychologic...   \n",
       "272  Publication Manual of the American Psychologic...   \n",
       "273  Publication Manual of the American Psychologic...   \n",
       "274  Publication Manual of the American Psychologic...   \n",
       "275  Publication Manual of the American Psychologic...   \n",
       "276  Publication Manual of the American Psychologic...   \n",
       "277  Publication Manual of the American Psychologic...   \n",
       "278  Publication Manual of the American Psychologic...   \n",
       "279  Publication Manual of the American Psychologic...   \n",
       "280  Publication Manual of the American Psychologic...   \n",
       "\n",
       "                                 Author  Year  \n",
       "271  American Psychological Association  2009  \n",
       "272  American Psychological Association  2010  \n",
       "273  American Psychological Association  2011  \n",
       "274  American Psychological Association  2012  \n",
       "275  American Psychological Association  2013  \n",
       "276  American Psychological Association  2014  \n",
       "277  American Psychological Association  2015  \n",
       "278  American Psychological Association  2016  \n",
       "279  American Psychological Association  2017  \n",
       "280  American Psychological Association  2018  "
      ]
     },
     "execution_count": 12,
     "metadata": {},
     "output_type": "execute_result"
    }
   ],
   "source": [
    "ind=books_df['Name'].value_counts().idxmax()\n",
    "books_df[books_df['Name']==ind][['Name','Author','Year']]"
   ]
  },
  {
   "cell_type": "code",
   "execution_count": 13,
   "metadata": {
    "metadata": {}
   },
   "outputs": [
    {
     "data": {
      "text/plain": [
       "2016    50\n",
       "2011    50\n",
       "2018    50\n",
       "2017    50\n",
       "2019    50\n",
       "2014    50\n",
       "2010    50\n",
       "2009    50\n",
       "2015    50\n",
       "2013    50\n",
       "2012    50\n",
       "Name: Year, dtype: int64"
      ]
     },
     "execution_count": 13,
     "metadata": {},
     "output_type": "execute_result"
    }
   ],
   "source": [
    "books_df['Year'].value_counts()"
   ]
  },
  {
   "cell_type": "markdown",
   "metadata": {},
   "source": [
    "Number of books of each genre"
   ]
  },
  {
   "cell_type": "code",
   "execution_count": 14,
   "metadata": {},
   "outputs": [
    {
     "data": {
      "text/plain": [
       "Non Fiction    310\n",
       "Fiction        240\n",
       "Name: Genre, dtype: int64"
      ]
     },
     "execution_count": 14,
     "metadata": {},
     "output_type": "execute_result"
    }
   ],
   "source": [
    "books_df['Genre'].value_counts()"
   ]
  },
  {
   "cell_type": "markdown",
   "metadata": {},
   "source": [
    "Books that have earned the most money in each genre"
   ]
  },
  {
   "cell_type": "code",
   "execution_count": 15,
   "metadata": {},
   "outputs": [
    {
     "data": {
      "text/html": [
       "<div>\n",
       "<style scoped>\n",
       "    .dataframe tbody tr th:only-of-type {\n",
       "        vertical-align: middle;\n",
       "    }\n",
       "\n",
       "    .dataframe tbody tr th {\n",
       "        vertical-align: top;\n",
       "    }\n",
       "\n",
       "    .dataframe thead th {\n",
       "        text-align: right;\n",
       "    }\n",
       "</style>\n",
       "<table border=\"1\" class=\"dataframe\">\n",
       "  <thead>\n",
       "    <tr style=\"text-align: right;\">\n",
       "      <th></th>\n",
       "      <th>Name</th>\n",
       "      <th>Author</th>\n",
       "      <th>User Rating</th>\n",
       "      <th>Reviews</th>\n",
       "      <th>Price</th>\n",
       "      <th>Year</th>\n",
       "      <th>Genre</th>\n",
       "    </tr>\n",
       "  </thead>\n",
       "  <tbody>\n",
       "    <tr>\n",
       "      <th>473</th>\n",
       "      <td>The Twilight Saga Collection</td>\n",
       "      <td>Stephenie Meyer</td>\n",
       "      <td>4.7</td>\n",
       "      <td>3801</td>\n",
       "      <td>82</td>\n",
       "      <td>2009</td>\n",
       "      <td>Fiction</td>\n",
       "    </tr>\n",
       "  </tbody>\n",
       "</table>\n",
       "</div>"
      ],
      "text/plain": [
       "                             Name           Author  User Rating  Reviews  \\\n",
       "473  The Twilight Saga Collection  Stephenie Meyer          4.7     3801   \n",
       "\n",
       "     Price  Year    Genre  \n",
       "473     82  2009  Fiction  "
      ]
     },
     "execution_count": 15,
     "metadata": {},
     "output_type": "execute_result"
    }
   ],
   "source": [
    "books_df[books_df['Price']==books_df.groupby(['Genre']).get_group('Fiction')['Price'].max()]"
   ]
  },
  {
   "cell_type": "code",
   "execution_count": 16,
   "metadata": {},
   "outputs": [
    {
     "data": {
      "text/html": [
       "<div>\n",
       "<style scoped>\n",
       "    .dataframe tbody tr th:only-of-type {\n",
       "        vertical-align: middle;\n",
       "    }\n",
       "\n",
       "    .dataframe tbody tr th {\n",
       "        vertical-align: top;\n",
       "    }\n",
       "\n",
       "    .dataframe thead th {\n",
       "        text-align: right;\n",
       "    }\n",
       "</style>\n",
       "<table border=\"1\" class=\"dataframe\">\n",
       "  <thead>\n",
       "    <tr style=\"text-align: right;\">\n",
       "      <th></th>\n",
       "      <th>Name</th>\n",
       "      <th>Author</th>\n",
       "      <th>User Rating</th>\n",
       "      <th>Reviews</th>\n",
       "      <th>Price</th>\n",
       "      <th>Year</th>\n",
       "      <th>Genre</th>\n",
       "    </tr>\n",
       "  </thead>\n",
       "  <tbody>\n",
       "    <tr>\n",
       "      <th>69</th>\n",
       "      <td>Diagnostic and Statistical Manual of Mental Di...</td>\n",
       "      <td>American Psychiatric Association</td>\n",
       "      <td>4.5</td>\n",
       "      <td>6679</td>\n",
       "      <td>105</td>\n",
       "      <td>2013</td>\n",
       "      <td>Non Fiction</td>\n",
       "    </tr>\n",
       "    <tr>\n",
       "      <th>70</th>\n",
       "      <td>Diagnostic and Statistical Manual of Mental Di...</td>\n",
       "      <td>American Psychiatric Association</td>\n",
       "      <td>4.5</td>\n",
       "      <td>6679</td>\n",
       "      <td>105</td>\n",
       "      <td>2014</td>\n",
       "      <td>Non Fiction</td>\n",
       "    </tr>\n",
       "  </tbody>\n",
       "</table>\n",
       "</div>"
      ],
      "text/plain": [
       "                                                 Name  \\\n",
       "69  Diagnostic and Statistical Manual of Mental Di...   \n",
       "70  Diagnostic and Statistical Manual of Mental Di...   \n",
       "\n",
       "                              Author  User Rating  Reviews  Price  Year  \\\n",
       "69  American Psychiatric Association          4.5     6679    105  2013   \n",
       "70  American Psychiatric Association          4.5     6679    105  2014   \n",
       "\n",
       "          Genre  \n",
       "69  Non Fiction  \n",
       "70  Non Fiction  "
      ]
     },
     "execution_count": 16,
     "metadata": {},
     "output_type": "execute_result"
    }
   ],
   "source": [
    "books_df[books_df['Price']==books_df.groupby(['Genre']).get_group('Non Fiction')['Price'].max()]"
   ]
  },
  {
   "cell_type": "code",
   "execution_count": 17,
   "metadata": {},
   "outputs": [
    {
     "data": {
      "text/html": [
       "<div>\n",
       "<style scoped>\n",
       "    .dataframe tbody tr th:only-of-type {\n",
       "        vertical-align: middle;\n",
       "    }\n",
       "\n",
       "    .dataframe tbody tr th {\n",
       "        vertical-align: top;\n",
       "    }\n",
       "\n",
       "    .dataframe thead th {\n",
       "        text-align: right;\n",
       "    }\n",
       "</style>\n",
       "<table border=\"1\" class=\"dataframe\">\n",
       "  <thead>\n",
       "    <tr style=\"text-align: right;\">\n",
       "      <th></th>\n",
       "      <th>Name</th>\n",
       "      <th>Author</th>\n",
       "      <th>User Rating</th>\n",
       "      <th>Reviews</th>\n",
       "      <th>Price</th>\n",
       "      <th>Year</th>\n",
       "      <th>Genre</th>\n",
       "    </tr>\n",
       "  </thead>\n",
       "  <tbody>\n",
       "    <tr>\n",
       "      <th>473</th>\n",
       "      <td>The Twilight Saga Collection</td>\n",
       "      <td>Stephenie Meyer</td>\n",
       "      <td>4.7</td>\n",
       "      <td>3801</td>\n",
       "      <td>82</td>\n",
       "      <td>2009</td>\n",
       "      <td>Fiction</td>\n",
       "    </tr>\n",
       "  </tbody>\n",
       "</table>\n",
       "</div>"
      ],
      "text/plain": [
       "                             Name           Author  User Rating  Reviews  \\\n",
       "473  The Twilight Saga Collection  Stephenie Meyer          4.7     3801   \n",
       "\n",
       "     Price  Year    Genre  \n",
       "473     82  2009  Fiction  "
      ]
     },
     "execution_count": 17,
     "metadata": {},
     "output_type": "execute_result"
    }
   ],
   "source": [
    "fiction_df=books_df[books_df['Genre']=='Fiction']\n",
    "fiction_df[fiction_df['Price']==fiction_df['Price'].max()]"
   ]
  },
  {
   "cell_type": "code",
   "execution_count": 18,
   "metadata": {},
   "outputs": [
    {
     "data": {
      "text/html": [
       "<div>\n",
       "<style scoped>\n",
       "    .dataframe tbody tr th:only-of-type {\n",
       "        vertical-align: middle;\n",
       "    }\n",
       "\n",
       "    .dataframe tbody tr th {\n",
       "        vertical-align: top;\n",
       "    }\n",
       "\n",
       "    .dataframe thead th {\n",
       "        text-align: right;\n",
       "    }\n",
       "</style>\n",
       "<table border=\"1\" class=\"dataframe\">\n",
       "  <thead>\n",
       "    <tr style=\"text-align: right;\">\n",
       "      <th></th>\n",
       "      <th>Name</th>\n",
       "      <th>Author</th>\n",
       "      <th>User Rating</th>\n",
       "      <th>Reviews</th>\n",
       "      <th>Price</th>\n",
       "      <th>Year</th>\n",
       "      <th>Genre</th>\n",
       "    </tr>\n",
       "  </thead>\n",
       "  <tbody>\n",
       "    <tr>\n",
       "      <th>69</th>\n",
       "      <td>Diagnostic and Statistical Manual of Mental Di...</td>\n",
       "      <td>American Psychiatric Association</td>\n",
       "      <td>4.5</td>\n",
       "      <td>6679</td>\n",
       "      <td>105</td>\n",
       "      <td>2013</td>\n",
       "      <td>Non Fiction</td>\n",
       "    </tr>\n",
       "    <tr>\n",
       "      <th>70</th>\n",
       "      <td>Diagnostic and Statistical Manual of Mental Di...</td>\n",
       "      <td>American Psychiatric Association</td>\n",
       "      <td>4.5</td>\n",
       "      <td>6679</td>\n",
       "      <td>105</td>\n",
       "      <td>2014</td>\n",
       "      <td>Non Fiction</td>\n",
       "    </tr>\n",
       "  </tbody>\n",
       "</table>\n",
       "</div>"
      ],
      "text/plain": [
       "                                                 Name  \\\n",
       "69  Diagnostic and Statistical Manual of Mental Di...   \n",
       "70  Diagnostic and Statistical Manual of Mental Di...   \n",
       "\n",
       "                              Author  User Rating  Reviews  Price  Year  \\\n",
       "69  American Psychiatric Association          4.5     6679    105  2013   \n",
       "70  American Psychiatric Association          4.5     6679    105  2014   \n",
       "\n",
       "          Genre  \n",
       "69  Non Fiction  \n",
       "70  Non Fiction  "
      ]
     },
     "execution_count": 18,
     "metadata": {},
     "output_type": "execute_result"
    }
   ],
   "source": [
    "non_fiction_df=books_df[books_df['Genre']=='Non Fiction']\n",
    "non_fiction_df[non_fiction_df['Price']==non_fiction_df['Price'].max()]"
   ]
  },
  {
   "cell_type": "markdown",
   "metadata": {},
   "source": [
    "Average rating of each genre"
   ]
  },
  {
   "cell_type": "code",
   "execution_count": 19,
   "metadata": {},
   "outputs": [
    {
     "data": {
      "text/plain": [
       "Genre\n",
       "Fiction        4.648333\n",
       "Non Fiction    4.595161\n",
       "Name: User Rating, dtype: float64"
      ]
     },
     "execution_count": 19,
     "metadata": {},
     "output_type": "execute_result"
    }
   ],
   "source": [
    "books_df.groupby(['Genre'])['User Rating'].mean()"
   ]
  },
  {
   "cell_type": "markdown",
   "metadata": {},
   "source": [
    "Most popular author name in each genre"
   ]
  },
  {
   "cell_type": "code",
   "execution_count": 20,
   "metadata": {
    "metadata": {}
   },
   "outputs": [
    {
     "data": {
      "text/plain": [
       "array(['Fiction', 'Non Fiction'], dtype=object)"
      ]
     },
     "execution_count": 20,
     "metadata": {},
     "output_type": "execute_result"
    }
   ],
   "source": [
    "genre=np.unique(books_df.Genre.values)\n",
    "genre"
   ]
  },
  {
   "cell_type": "code",
   "execution_count": 21,
   "metadata": {
    "metadata": {}
   },
   "outputs": [
    {
     "data": {
      "text/plain": [
       "[['Fiction', 'Jeff Kinney'], ['Non Fiction', 'Gary Chapman']]"
      ]
     },
     "execution_count": 21,
     "metadata": {},
     "output_type": "execute_result"
    }
   ],
   "source": [
    "[[i,books_df.groupby(['Genre'])['Author'].value_counts()[i].idxmax()] for i in genre]"
   ]
  },
  {
   "cell_type": "markdown",
   "metadata": {},
   "source": [
    "No of books sold in each year"
   ]
  },
  {
   "cell_type": "code",
   "execution_count": 22,
   "metadata": {
    "metadata": {}
   },
   "outputs": [
    {
     "data": {
      "text/plain": [
       "Year\n",
       "2009    50\n",
       "2010    50\n",
       "2011    50\n",
       "2012    50\n",
       "2013    50\n",
       "2014    50\n",
       "2015    50\n",
       "2016    50\n",
       "2017    50\n",
       "2018    50\n",
       "2019    50\n",
       "dtype: int64"
      ]
     },
     "execution_count": 22,
     "metadata": {},
     "output_type": "execute_result"
    }
   ],
   "source": [
    "books_df.groupby('Year').size()"
   ]
  },
  {
   "cell_type": "markdown",
   "metadata": {},
   "source": [
    "Box Plot for ratings and Price"
   ]
  },
  {
   "cell_type": "code",
   "execution_count": 23,
   "metadata": {
    "metadata": {}
   },
   "outputs": [],
   "source": [
    "import matplotlib.pyplot as plt\n",
    "import seaborn as sns"
   ]
  },
  {
   "cell_type": "code",
   "execution_count": 24,
   "metadata": {
    "metadata": {}
   },
   "outputs": [
    {
     "data": {
      "image/png": "[encoded data removed]",
      "text/plain": [
       "<Figure size 432x432 with 1 Axes>"
      ]
     },
     "metadata": {
      "needs_background": "light"
     },
     "output_type": "display_data"
    }
   ],
   "source": [
    "fig = plt.figure(figsize=[6,6])\n",
    "sns.boxplot(data=books_df,y=books_df['Price'])\n",
    "plt.show()"
   ]
  },
  {
   "cell_type": "code",
   "execution_count": 25,
   "metadata": {
    "metadata": {}
   },
   "outputs": [
    {
     "data": {
      "image/png": "[encoded data removed]",
      "text/plain": [
       "<Figure size 432x432 with 1 Axes>"
      ]
     },
     "metadata": {
      "needs_background": "light"
     },
     "output_type": "display_data"
    }
   ],
   "source": [
    "fig = plt.figure(figsize=[6,6])\n",
    "sns.boxplot(data=books_df,y=books_df['User Rating'])\n",
    "plt.show()"
   ]
  },
  {
   "cell_type": "code",
   "execution_count": 26,
   "metadata": {
    "metadata": {}
   },
   "outputs": [],
   "source": [
    "Q1=books_df['User Rating'].quantile(0.25)\n",
    "Q2=books_df['User Rating'].quantile(0.50)\n",
    "Q3=books_df['User Rating'].quantile(0.75)"
   ]
  },
  {
   "cell_type": "code",
   "execution_count": 27,
   "metadata": {
    "metadata": {}
   },
   "outputs": [
    {
     "name": "stdout",
     "output_type": "stream",
     "text": [
      "4.050000000000001 5.25\n"
     ]
    }
   ],
   "source": [
    "IQR=Q3-Q1\n",
    "lowval=Q1-1.5*IQR\n",
    "maxval=Q3+1.5*IQR\n",
    "print(lowval,maxval)"
   ]
  },
  {
   "cell_type": "code",
   "execution_count": 28,
   "metadata": {
    "metadata": {}
   },
   "outputs": [
    {
     "data": {
      "text/plain": [
       "4.0    14\n",
       "3.9     3\n",
       "3.8     2\n",
       "3.6     1\n",
       "3.3     1\n",
       "Name: User Rating, dtype: int64"
      ]
     },
     "execution_count": 28,
     "metadata": {},
     "output_type": "execute_result"
    }
   ],
   "source": [
    "books_df[(books_df['User Rating']>maxval)|(books_df['User Rating']<lowval)]['User Rating'].value_counts()"
   ]
  },
  {
   "cell_type": "code",
   "execution_count": 29,
   "metadata": {
    "metadata": {}
   },
   "outputs": [],
   "source": [
    "import plotly.express as px"
   ]
  },
  {
   "cell_type": "code",
   "execution_count": 30,
   "metadata": {
    "metadata": {}
   },
   "outputs": [
    {
     "data": {
      "application/vnd.plotly.v1+json": {
       "config": {
        "plotlyServerURL": "https://plot.ly"
       },
       "data": [
        {
         "alignmentgroup": "True",
         "hovertemplate": "Genre=%{x}<br>Price=%{y}<extra></extra>",
         "legendgroup": "",
         "marker": {
          "color": "#636efa"
         },
         "name": "",
         "notched": false,
         "offsetgroup": "",
         "orientation": "v",
         "showlegend": false,
         "type": "box",
         "x": [
          "Non Fiction",
          "Fiction",
          "Non Fiction",
          "Fiction",
          "Non Fiction",
          "Fiction",
          "Fiction",
          "Fiction",
          "Non Fiction",
          "Fiction",
          "Fiction",
          "Non Fiction",
          "Non Fiction",
          "Fiction",
          "Non Fiction",
          "Non Fiction",
          "Non Fiction",
          "Non Fiction",
          "Non Fiction",
          "Non Fiction",
          "Fiction",
          "Fiction",
          "Fiction",
          "Non Fiction",
          "Fiction",
          "Non Fiction",
          "Non Fiction",
          "Non Fiction",
          "Non Fiction",
          "Non Fiction",
          "Non Fiction",
          "Non Fiction",
          "Non Fiction",
          "Non Fiction",
          "Non Fiction",
          "Non Fiction",
          "Non Fiction",
          "Non Fiction",
          "Fiction",
          "Non Fiction",
          "Fiction",
          "Fiction",
          "Fiction",
          "Non Fiction",
          "Non Fiction",
          "Non Fiction",
          "Fiction",
          "Fiction",
          "Fiction",
          "Non Fiction",
          "Non Fiction",
          "Non Fiction",
          "Non Fiction",
          "Fiction",
          "Non Fiction",
          "Non Fiction",
          "Fiction",
          "Fiction",
          "Non Fiction",
          "Non Fiction",
          "Fiction",
          "Fiction",
          "Fiction",
          "Fiction",
          "Fiction",
          "Fiction",
          "Fiction",
          "Non Fiction",
          "Non Fiction",
          "Non Fiction",
          "Non Fiction",
          "Fiction",
          "Fiction",
          "Fiction",
          "Non Fiction",
          "Fiction",
          "Fiction",
          "Fiction",
          "Non Fiction",
          "Fiction",
          "Fiction",
          "Fiction",
          "Fiction",
          "Fiction",
          "Fiction",
          "Fiction",
          "Fiction",
          "Fiction",
          "Fiction",
          "Non Fiction",
          "Non Fiction",
          "Non Fiction",
          "Non Fiction",
          "Non Fiction",
          "Non Fiction",
          "Fiction",
          "Fiction",
          "Non Fiction",
          "Non Fiction",
          "Non Fiction",
          "Fiction",
          "Fiction",
          "Fiction",
          "Non Fiction",
          "Fiction",
          "Fiction",
          "Fiction",
          "Fiction",
          "Fiction",
          "Non Fiction",
          "Non Fiction",
          "Non Fiction",
          "Non Fiction",
          "Non Fiction",
          "Non Fiction",
          "Non Fiction",
          "Fiction",
          "Non Fiction",
          "Fiction",
          "Fiction",
          "Fiction",
          "Non Fiction",
          "Non Fiction",
          "Fiction",
          "Fiction",
          "Fiction",
          "Fiction",
          "Fiction",
          "Non Fiction",
          "Non Fiction",
          "Non Fiction",
          "Non Fiction",
          "Fiction",
          "Fiction",
          "Non Fiction",
          "Fiction",
          "Fiction",
          "Fiction",
          "Non Fiction",
          "Non Fiction",
          "Non Fiction",
          "Non Fiction",
          "Non Fiction",
          "Fiction",
          "Fiction",
          "Fiction",
          "Fiction",
          "Fiction",
          "Non Fiction",
          "Fiction",
          "Non Fiction",
          "Non Fiction",
          "Non Fiction",
          "Fiction",
          "Fiction",
          "Fiction",
          "Fiction",
          "Fiction",
          "Non Fiction",
          "Fiction",
          "Non Fiction",
          "Non Fiction",
          "Non Fiction",
          "Non Fiction",
          "Non Fiction",
          "Non Fiction",
          "Non Fiction",
          "Non Fiction",
          "Non Fiction",
          "Non Fiction",
          "Non Fiction",
          "Non Fiction",
          "Non Fiction",
          "Non Fiction",
          "Non Fiction",
          "Non Fiction",
          "Non Fiction",
          "Fiction",
          "Fiction",
          "Fiction",
          "Fiction",
          "Non Fiction",
          "Fiction",
          "Fiction",
          "Non Fiction",
          "Non Fiction",
          "Non Fiction",
          "Non Fiction",
          "Non Fiction",
          "Non Fiction",
          "Non Fiction",
          "Non Fiction",
          "Non Fiction",
          "Fiction",
          "Fiction",
          "Non Fiction",
          "Non Fiction",
          "Non Fiction",
          "Non Fiction",
          "Non Fiction",
          "Non Fiction",
          "Non Fiction",
          "Non Fiction",
          "Non Fiction",
          "Non Fiction",
          "Non Fiction",
          "Non Fiction",
          "Fiction",
          "Non Fiction",
          "Non Fiction",
          "Non Fiction",
          "Non Fiction",
          "Non Fiction",
          "Non Fiction",
          "Non Fiction",
          "Non Fiction",
          "Non Fiction",
          "Non Fiction",
          "Fiction",
          "Fiction",
          "Fiction",
          "Fiction",
          "Non Fiction",
          "Fiction",
          "Fiction",
          "Non Fiction",
          "Non Fiction",
          "Non Fiction",
          "Non Fiction",
          "Non Fiction",
          "Non Fiction",
          "Non Fiction",
          "Non Fiction",
          "Non Fiction",
          "Non Fiction",
          "Non Fiction",
          "Fiction",
          "Fiction",
          "Fiction",
          "Non Fiction",
          "Non Fiction",
          "Fiction",
          "Non Fiction",
          "Non Fiction",
          "Non Fiction",
          "Fiction",
          "Fiction",
          "Fiction",
          "Fiction",
          "Fiction",
          "Fiction",
          "Fiction",
          "Fiction",
          "Fiction",
          "Fiction",
          "Non Fiction",
          "Non Fiction",
          "Non Fiction",
          "Fiction",
          "Fiction",
          "Non Fiction",
          "Non Fiction",
          "Non Fiction",
          "Non Fiction",
          "Fiction",
          "Fiction",
          "Fiction",
          "Fiction",
          "Fiction",
          "Non Fiction",
          "Non Fiction",
          "Non Fiction",
          "Non Fiction",
          "Non Fiction",
          "Non Fiction",
          "Non Fiction",
          "Non Fiction",
          "Non Fiction",
          "Non Fiction",
          "Non Fiction",
          "Non Fiction",
          "Fiction",
          "Non Fiction",
          "Non Fiction",
          "Non Fiction",
          "Non Fiction",
          "Fiction",
          "Fiction",
          "Fiction",
          "Fiction",
          "Non Fiction",
          "Non Fiction",
          "Fiction",
          "Non Fiction",
          "Non Fiction",
          "Non Fiction",
          "Non Fiction",
          "Non Fiction",
          "Non Fiction",
          "Fiction",
          "Non Fiction",
          "Non Fiction",
          "Non Fiction",
          "Fiction",
          "Non Fiction",
          "Non Fiction",
          "Non Fiction",
          "Non Fiction",
          "Non Fiction",
          "Non Fiction",
          "Non Fiction",
          "Non Fiction",
          "Non Fiction",
          "Non Fiction",
          "Non Fiction",
          "Fiction",
          "Non Fiction",
          "Non Fiction",
          "Non Fiction",
          "Non Fiction",
          "Non Fiction",
          "Non Fiction",
          "Non Fiction",
          "Non Fiction",
          "Non Fiction",
          "Non Fiction",
          "Non Fiction",
          "Non Fiction",
          "Non Fiction",
          "Non Fiction",
          "Non Fiction",
          "Non Fiction",
          "Non Fiction",
          "Non Fiction",
          "Non Fiction",
          "Non Fiction",
          "Non Fiction",
          "Non Fiction",
          "Fiction",
          "Non Fiction",
          "Fiction",
          "Fiction",
          "Non Fiction",
          "Fiction",
          "Non Fiction",
          "Non Fiction",
          "Non Fiction",
          "Fiction",
          "Fiction",
          "Fiction",
          "Fiction",
          "Non Fiction",
          "Non Fiction",
          "Fiction",
          "Non Fiction",
          "Non Fiction",
          "Non Fiction",
          "Fiction",
          "Non Fiction",
          "Non Fiction",
          "Fiction",
          "Fiction",
          "Fiction",
          "Non Fiction",
          "Fiction",
          "Fiction",
          "Fiction",
          "Fiction",
          "Fiction",
          "Non Fiction",
          "Non Fiction",
          "Non Fiction",
          "Non Fiction",
          "Non Fiction",
          "Non Fiction",
          "Non Fiction",
          "Non Fiction",
          "Non Fiction",
          "Non Fiction",
          "Non Fiction",
          "Non Fiction",
          "Fiction",
          "Fiction",
          "Fiction",
          "Fiction",
          "Fiction",
          "Fiction",
          "Fiction",
          "Fiction",
          "Fiction",
          "Fiction",
          "Fiction",
          "Fiction",
          "Fiction",
          "Fiction",
          "Fiction",
          "Fiction",
          "Fiction",
          "Fiction",
          "Fiction",
          "Fiction",
          "Fiction",
          "Fiction",
          "Fiction",
          "Fiction",
          "Fiction",
          "Fiction",
          "Fiction",
          "Fiction",
          "Fiction",
          "Fiction",
          "Fiction",
          "Non Fiction",
          "Non Fiction",
          "Non Fiction",
          "Non Fiction",
          "Non Fiction",
          "Non Fiction",
          "Fiction",
          "Fiction",
          "Fiction",
          "Non Fiction",
          "Non Fiction",
          "Non Fiction",
          "Non Fiction",
          "Non Fiction",
          "Non Fiction",
          "Fiction",
          "Fiction",
          "Fiction",
          "Non Fiction",
          "Non Fiction",
          "Fiction",
          "Fiction",
          "Fiction",
          "Fiction",
          "Non Fiction",
          "Fiction",
          "Fiction",
          "Non Fiction",
          "Non Fiction",
          "Non Fiction",
          "Non Fiction",
          "Non Fiction",
          "Non Fiction",
          "Fiction",
          "Non Fiction",
          "Non Fiction",
          "Non Fiction",
          "Non Fiction",
          "Non Fiction",
          "Fiction",
          "Fiction",
          "Non Fiction",
          "Fiction",
          "Fiction",
          "Fiction",
          "Non Fiction",
          "Fiction",
          "Fiction",
          "Fiction",
          "Fiction",
          "Fiction",
          "Fiction",
          "Non Fiction",
          "Non Fiction",
          "Non Fiction",
          "Non Fiction",
          "Fiction",
          "Fiction",
          "Fiction",
          "Non Fiction",
          "Non Fiction",
          "Fiction",
          "Fiction",
          "Non Fiction",
          "Fiction",
          "Fiction",
          "Fiction",
          "Fiction",
          "Fiction",
          "Fiction",
          "Fiction",
          "Non Fiction",
          "Non Fiction",
          "Non Fiction",
          "Fiction",
          "Fiction",
          "Fiction",
          "Fiction",
          "Fiction",
          "Fiction",
          "Non Fiction",
          "Non Fiction",
          "Non Fiction",
          "Non Fiction",
          "Fiction",
          "Non Fiction",
          "Non Fiction",
          "Non Fiction",
          "Non Fiction",
          "Non Fiction",
          "Non Fiction",
          "Non Fiction",
          "Non Fiction",
          "Fiction",
          "Fiction",
          "Fiction",
          "Fiction",
          "Fiction",
          "Non Fiction",
          "Fiction",
          "Non Fiction",
          "Fiction",
          "Fiction",
          "Non Fiction",
          "Non Fiction",
          "Non Fiction",
          "Non Fiction",
          "Non Fiction",
          "Fiction",
          "Non Fiction",
          "Non Fiction",
          "Non Fiction",
          "Fiction",
          "Fiction",
          "Non Fiction",
          "Non Fiction",
          "Fiction",
          "Fiction",
          "Non Fiction",
          "Non Fiction",
          "Non Fiction",
          "Non Fiction",
          "Fiction",
          "Fiction",
          "Non Fiction",
          "Non Fiction",
          "Fiction",
          "Non Fiction",
          "Fiction",
          "Fiction",
          "Fiction",
          "Fiction",
          "Fiction",
          "Fiction",
          "Non Fiction",
          "Non Fiction",
          "Non Fiction",
          "Non Fiction"
         ],
         "x0": " ",
         "xaxis": "x",
         "y": [
          8,
          22,
          15,
          6,
          12,
          11,
          30,
          15,
          3,
          8,
          8,
          2,
          32,
          5,
          17,
          4,
          6,
          6,
          8,
          13,
          14,
          14,
          13,
          9,
          13,
          5,
          9,
          14,
          5,
          11,
          24,
          21,
          11,
          11,
          15,
          13,
          13,
          18,
          13,
          8,
          5,
          5,
          0,
          4,
          18,
          28,
          11,
          11,
          11,
          16,
          14,
          14,
          14,
          8,
          4,
          5,
          11,
          11,
          10,
          13,
          4,
          8,
          4,
          5,
          5,
          5,
          5,
          17,
          15,
          105,
          105,
          0,
          15,
          22,
          5,
          15,
          15,
          6,
          6,
          13,
          12,
          6,
          8,
          4,
          4,
          8,
          8,
          6,
          20,
          5,
          16,
          1,
          14,
          9,
          9,
          7,
          18,
          15,
          15,
          9,
          8,
          8,
          15,
          2,
          7,
          11,
          14,
          14,
          32,
          6,
          4,
          4,
          4,
          4,
          4,
          9,
          0,
          9,
          5,
          5,
          5,
          20,
          16,
          4,
          4,
          4,
          4,
          4,
          12,
          12,
          12,
          11,
          19,
          9,
          6,
          10,
          10,
          9,
          6,
          14,
          14,
          14,
          14,
          5,
          5,
          5,
          7,
          7,
          10,
          14,
          7,
          54,
          11,
          30,
          12,
          18,
          30,
          22,
          9,
          52,
          4,
          10,
          10,
          14,
          14,
          22,
          11,
          11,
          11,
          11,
          11,
          16,
          15,
          15,
          17,
          17,
          7,
          7,
          4,
          4,
          9,
          21,
          14,
          20,
          13,
          13,
          12,
          8,
          8,
          8,
          8,
          8,
          8,
          0,
          12,
          17,
          12,
          25,
          10,
          10,
          6,
          5,
          6,
          8,
          4,
          4,
          4,
          13,
          4,
          4,
          4,
          4,
          4,
          13,
          21,
          6,
          15,
          18,
          10,
          0,
          12,
          7,
          13,
          5,
          5,
          16,
          20,
          11,
          27,
          8,
          8,
          8,
          6,
          10,
          10,
          10,
          8,
          8,
          8,
          16,
          11,
          10,
          9,
          14,
          22,
          8,
          8,
          8,
          8,
          8,
          8,
          8,
          8,
          7,
          12,
          13,
          13,
          9,
          13,
          11,
          20,
          20,
          5,
          5,
          2,
          27,
          27,
          27,
          9,
          10,
          10,
          46,
          46,
          46,
          46,
          46,
          46,
          46,
          46,
          46,
          46,
          4,
          20,
          7,
          9,
          9,
          12,
          12,
          12,
          12,
          20,
          20,
          10,
          6,
          6,
          9,
          11,
          16,
          6,
          25,
          17,
          20,
          20,
          6,
          17,
          17,
          17,
          17,
          17,
          17,
          17,
          17,
          17,
          18,
          13,
          18,
          20,
          20,
          22,
          21,
          28,
          28,
          28,
          28,
          28,
          8,
          8,
          8,
          8,
          8,
          12,
          24,
          24,
          24,
          24,
          16,
          16,
          16,
          39,
          9,
          10,
          10,
          17,
          11,
          14,
          12,
          53,
          6,
          6,
          8,
          8,
          12,
          12,
          12,
          21,
          6,
          6,
          13,
          0,
          11,
          9,
          9,
          9,
          15,
          11,
          13,
          13,
          7,
          13,
          6,
          6,
          6,
          6,
          6,
          9,
          6,
          6,
          6,
          6,
          6,
          6,
          0,
          18,
          7,
          14,
          14,
          9,
          16,
          2,
          2,
          5,
          5,
          20,
          20,
          7,
          7,
          7,
          14,
          10,
          7,
          13,
          11,
          6,
          6,
          8,
          7,
          14,
          14,
          8,
          8,
          30,
          30,
          13,
          9,
          9,
          7,
          7,
          9,
          7,
          7,
          20,
          13,
          13,
          11,
          11,
          11,
          11,
          18,
          14,
          19,
          13,
          5,
          10,
          9,
          8,
          8,
          12,
          11,
          11,
          40,
          40,
          40,
          40,
          40,
          36,
          16,
          17,
          14,
          21,
          18,
          17,
          5,
          5,
          21,
          18,
          18,
          12,
          14,
          12,
          8,
          8,
          0,
          14,
          10,
          15,
          15,
          15,
          9,
          7,
          10,
          6,
          9,
          10,
          82,
          12,
          10,
          5,
          5,
          5,
          5,
          5,
          5,
          5,
          16,
          16,
          16,
          10,
          10,
          10,
          10,
          4,
          4,
          16,
          15,
          19,
          19,
          9,
          23,
          11,
          11,
          23,
          23,
          23,
          23,
          12,
          0,
          0,
          0,
          0,
          7,
          21,
          21,
          15,
          9,
          5,
          16,
          16,
          16,
          13,
          16,
          20,
          11,
          4,
          9,
          42,
          12,
          18,
          17,
          14,
          13,
          9,
          6,
          6,
          14,
          15,
          13,
          12,
          18,
          15,
          11,
          9,
          9,
          9,
          9,
          9,
          8,
          8,
          8,
          8,
          8
         ],
         "y0": " ",
         "yaxis": "y"
        }
       ],
       "layout": {
        "boxmode": "group",
        "height": 500,
        "legend": {
         "tracegroupgap": 0
        },
        "margin": {
         "t": 60
        },
        "template": {
         "data": {
          "bar": [
           {
            "error_x": {
             "color": "#2a3f5f"
            },
            "error_y": {
             "color": "#2a3f5f"
            },
            "marker": {
             "line": {
              "color": "#E5ECF6",
              "width": 0.5
             },
             "pattern": {
              "fillmode": "overlay",
              "size": 10,
              "solidity": 0.2
             }
            },
            "type": "bar"
           }
          ],
          "barpolar": [
           {
            "marker": {
             "line": {
              "color": "#E5ECF6",
              "width": 0.5
             },
             "pattern": {
              "fillmode": "overlay",
              "size": 10,
              "solidity": 0.2
             }
            },
            "type": "barpolar"
           }
          ],
          "carpet": [
           {
            "aaxis": {
             "endlinecolor": "#2a3f5f",
             "gridcolor": "white",
             "linecolor": "white",
             "minorgridcolor": "white",
             "startlinecolor": "#2a3f5f"
            },
            "baxis": {
             "endlinecolor": "#2a3f5f",
             "gridcolor": "white",
             "linecolor": "white",
             "minorgridcolor": "white",
             "startlinecolor": "#2a3f5f"
            },
            "type": "carpet"
           }
          ],
          "choropleth": [
           {
            "colorbar": {
             "outlinewidth": 0,
             "ticks": ""
            },
            "type": "choropleth"
           }
          ],
          "contour": [
           {
            "colorbar": {
             "outlinewidth": 0,
             "ticks": ""
            },
            "colorscale": [
             [
              0,
              "#0d0887"
             ],
             [
              0.1111111111111111,
              "#46039f"
             ],
             [
              0.2222222222222222,
              "#7201a8"
             ],
             [
              0.3333333333333333,
              "#9c179e"
             ],
             [
              0.4444444444444444,
              "#bd3786"
             ],
             [
              0.5555555555555556,
              "#d8576b"
             ],
             [
              0.6666666666666666,
              "#ed7953"
             ],
             [
              0.7777777777777778,
              "#fb9f3a"
             ],
             [
              0.8888888888888888,
              "#fdca26"
             ],
             [
              1,
              "#f0f921"
             ]
            ],
            "type": "contour"
           }
          ],
          "contourcarpet": [
           {
            "colorbar": {
             "outlinewidth": 0,
             "ticks": ""
            },
            "type": "contourcarpet"
           }
          ],
          "heatmap": [
           {
            "colorbar": {
             "outlinewidth": 0,
             "ticks": ""
            },
            "colorscale": [
             [
              0,
              "#0d0887"
             ],
             [
              0.1111111111111111,
              "#46039f"
             ],
             [
              0.2222222222222222,
              "#7201a8"
             ],
             [
              0.3333333333333333,
              "#9c179e"
             ],
             [
              0.4444444444444444,
              "#bd3786"
             ],
             [
              0.5555555555555556,
              "#d8576b"
             ],
             [
              0.6666666666666666,
              "#ed7953"
             ],
             [
              0.7777777777777778,
              "#fb9f3a"
             ],
             [
              0.8888888888888888,
              "#fdca26"
             ],
             [
              1,
              "#f0f921"
             ]
            ],
            "type": "heatmap"
           }
          ],
          "heatmapgl": [
           {
            "colorbar": {
             "outlinewidth": 0,
             "ticks": ""
            },
            "colorscale": [
             [
              0,
              "#0d0887"
             ],
             [
              0.1111111111111111,
              "#46039f"
             ],
             [
              0.2222222222222222,
              "#7201a8"
             ],
             [
              0.3333333333333333,
              "#9c179e"
             ],
             [
              0.4444444444444444,
              "#bd3786"
             ],
             [
              0.5555555555555556,
              "#d8576b"
             ],
             [
              0.6666666666666666,
              "#ed7953"
             ],
             [
              0.7777777777777778,
              "#fb9f3a"
             ],
             [
              0.8888888888888888,
              "#fdca26"
             ],
             [
              1,
              "#f0f921"
             ]
            ],
            "type": "heatmapgl"
           }
          ],
          "histogram": [
           {
            "marker": {
             "pattern": {
              "fillmode": "overlay",
              "size": 10,
              "solidity": 0.2
             }
            },
            "type": "histogram"
           }
          ],
          "histogram2d": [
           {
            "colorbar": {
             "outlinewidth": 0,
             "ticks": ""
            },
            "colorscale": [
             [
              0,
              "#0d0887"
             ],
             [
              0.1111111111111111,
              "#46039f"
             ],
             [
              0.2222222222222222,
              "#7201a8"
             ],
             [
              0.3333333333333333,
              "#9c179e"
             ],
             [
              0.4444444444444444,
              "#bd3786"
             ],
             [
              0.5555555555555556,
              "#d8576b"
             ],
             [
              0.6666666666666666,
              "#ed7953"
             ],
             [
              0.7777777777777778,
              "#fb9f3a"
             ],
             [
              0.8888888888888888,
              "#fdca26"
             ],
             [
              1,
              "#f0f921"
             ]
            ],
            "type": "histogram2d"
           }
          ],
          "histogram2dcontour": [
           {
            "colorbar": {
             "outlinewidth": 0,
             "ticks": ""
            },
            "colorscale": [
             [
              0,
              "#0d0887"
             ],
             [
              0.1111111111111111,
              "#46039f"
             ],
             [
              0.2222222222222222,
              "#7201a8"
             ],
             [
              0.3333333333333333,
              "#9c179e"
             ],
             [
              0.4444444444444444,
              "#bd3786"
             ],
             [
              0.5555555555555556,
              "#d8576b"
             ],
             [
              0.6666666666666666,
              "#ed7953"
             ],
             [
              0.7777777777777778,
              "#fb9f3a"
             ],
             [
              0.8888888888888888,
              "#fdca26"
             ],
             [
              1,
              "#f0f921"
             ]
            ],
            "type": "histogram2dcontour"
           }
          ],
          "mesh3d": [
           {
            "colorbar": {
             "outlinewidth": 0,
             "ticks": ""
            },
            "type": "mesh3d"
           }
          ],
          "parcoords": [
           {
            "line": {
             "colorbar": {
              "outlinewidth": 0,
              "ticks": ""
             }
            },
            "type": "parcoords"
           }
          ],
          "pie": [
           {
            "automargin": true,
            "type": "pie"
           }
          ],
          "scatter": [
           {
            "fillpattern": {
             "fillmode": "overlay",
             "size": 10,
             "solidity": 0.2
            },
            "type": "scatter"
           }
          ],
          "scatter3d": [
           {
            "line": {
             "colorbar": {
              "outlinewidth": 0,
              "ticks": ""
             }
            },
            "marker": {
             "colorbar": {
              "outlinewidth": 0,
              "ticks": ""
             }
            },
            "type": "scatter3d"
           }
          ],
          "scattercarpet": [
           {
            "marker": {
             "colorbar": {
              "outlinewidth": 0,
              "ticks": ""
             }
            },
            "type": "scattercarpet"
           }
          ],
          "scattergeo": [
           {
            "marker": {
             "colorbar": {
              "outlinewidth": 0,
              "ticks": ""
             }
            },
            "type": "scattergeo"
           }
          ],
          "scattergl": [
           {
            "marker": {
             "colorbar": {
              "outlinewidth": 0,
              "ticks": ""
             }
            },
            "type": "scattergl"
           }
          ],
          "scattermapbox": [
           {
            "marker": {
             "colorbar": {
              "outlinewidth": 0,
              "ticks": ""
             }
            },
            "type": "scattermapbox"
           }
          ],
          "scatterpolar": [
           {
            "marker": {
             "colorbar": {
              "outlinewidth": 0,
              "ticks": ""
             }
            },
            "type": "scatterpolar"
           }
          ],
          "scatterpolargl": [
           {
            "marker": {
             "colorbar": {
              "outlinewidth": 0,
              "ticks": ""
             }
            },
            "type": "scatterpolargl"
           }
          ],
          "scatterternary": [
           {
            "marker": {
             "colorbar": {
              "outlinewidth": 0,
              "ticks": ""
             }
            },
            "type": "scatterternary"
           }
          ],
          "surface": [
           {
            "colorbar": {
             "outlinewidth": 0,
             "ticks": ""
            },
            "colorscale": [
             [
              0,
              "#0d0887"
             ],
             [
              0.1111111111111111,
              "#46039f"
             ],
             [
              0.2222222222222222,
              "#7201a8"
             ],
             [
              0.3333333333333333,
              "#9c179e"
             ],
             [
              0.4444444444444444,
              "#bd3786"
             ],
             [
              0.5555555555555556,
              "#d8576b"
             ],
             [
              0.6666666666666666,
              "#ed7953"
             ],
             [
              0.7777777777777778,
              "#fb9f3a"
             ],
             [
              0.8888888888888888,
              "#fdca26"
             ],
             [
              1,
              "#f0f921"
             ]
            ],
            "type": "surface"
           }
          ],
          "table": [
           {
            "cells": {
             "fill": {
              "color": "#EBF0F8"
             },
             "line": {
              "color": "white"
             }
            },
            "header": {
             "fill": {
              "color": "#C8D4E3"
             },
             "line": {
              "color": "white"
             }
            },
            "type": "table"
           }
          ]
         },
         "layout": {
          "annotationdefaults": {
           "arrowcolor": "#2a3f5f",
           "arrowhead": 0,
           "arrowwidth": 1
          },
          "autotypenumbers": "strict",
          "coloraxis": {
           "colorbar": {
            "outlinewidth": 0,
            "ticks": ""
           }
          },
          "colorscale": {
           "diverging": [
            [
             0,
             "#8e0152"
            ],
            [
             0.1,
             "#c51b7d"
            ],
            [
             0.2,
             "#de77ae"
            ],
            [
             0.3,
             "#f1b6da"
            ],
            [
             0.4,
             "#fde0ef"
            ],
            [
             0.5,
             "#f7f7f7"
            ],
            [
             0.6,
             "#e6f5d0"
            ],
            [
             0.7,
             "#b8e186"
            ],
            [
             0.8,
             "#7fbc41"
            ],
            [
             0.9,
             "#4d9221"
            ],
            [
             1,
             "#276419"
            ]
           ],
           "sequential": [
            [
             0,
             "#0d0887"
            ],
            [
             0.1111111111111111,
             "#46039f"
            ],
            [
             0.2222222222222222,
             "#7201a8"
            ],
            [
             0.3333333333333333,
             "#9c179e"
            ],
            [
             0.4444444444444444,
             "#bd3786"
            ],
            [
             0.5555555555555556,
             "#d8576b"
            ],
            [
             0.6666666666666666,
             "#ed7953"
            ],
            [
             0.7777777777777778,
             "#fb9f3a"
            ],
            [
             0.8888888888888888,
             "#fdca26"
            ],
            [
             1,
             "#f0f921"
            ]
           ],
           "sequentialminus": [
            [
             0,
             "#0d0887"
            ],
            [
             0.1111111111111111,
             "#46039f"
            ],
            [
             0.2222222222222222,
             "#7201a8"
            ],
            [
             0.3333333333333333,
             "#9c179e"
            ],
            [
             0.4444444444444444,
             "#bd3786"
            ],
            [
             0.5555555555555556,
             "#d8576b"
            ],
            [
             0.6666666666666666,
             "#ed7953"
            ],
            [
             0.7777777777777778,
             "#fb9f3a"
            ],
            [
             0.8888888888888888,
             "#fdca26"
            ],
            [
             1,
             "#f0f921"
            ]
           ]
          },
          "colorway": [
           "#636efa",
           "#EF553B",
           "#00cc96",
           "#ab63fa",
           "#FFA15A",
           "#19d3f3",
           "#FF6692",
           "#B6E880",
           "#FF97FF",
           "#FECB52"
          ],
          "font": {
           "color": "#2a3f5f"
          },
          "geo": {
           "bgcolor": "white",
           "lakecolor": "white",
           "landcolor": "#E5ECF6",
           "showlakes": true,
           "showland": true,
           "subunitcolor": "white"
          },
          "hoverlabel": {
           "align": "left"
          },
          "hovermode": "closest",
          "mapbox": {
           "style": "light"
          },
          "paper_bgcolor": "white",
          "plot_bgcolor": "#E5ECF6",
          "polar": {
           "angularaxis": {
            "gridcolor": "white",
            "linecolor": "white",
            "ticks": ""
           },
           "bgcolor": "#E5ECF6",
           "radialaxis": {
            "gridcolor": "white",
            "linecolor": "white",
            "ticks": ""
           }
          },
          "scene": {
           "xaxis": {
            "backgroundcolor": "#E5ECF6",
            "gridcolor": "white",
            "gridwidth": 2,
            "linecolor": "white",
            "showbackground": true,
            "ticks": "",
            "zerolinecolor": "white"
           },
           "yaxis": {
            "backgroundcolor": "#E5ECF6",
            "gridcolor": "white",
            "gridwidth": 2,
            "linecolor": "white",
            "showbackground": true,
            "ticks": "",
            "zerolinecolor": "white"
           },
           "zaxis": {
            "backgroundcolor": "#E5ECF6",
            "gridcolor": "white",
            "gridwidth": 2,
            "linecolor": "white",
            "showbackground": true,
            "ticks": "",
            "zerolinecolor": "white"
           }
          },
          "shapedefaults": {
           "line": {
            "color": "#2a3f5f"
           }
          },
          "ternary": {
           "aaxis": {
            "gridcolor": "white",
            "linecolor": "white",
            "ticks": ""
           },
           "baxis": {
            "gridcolor": "white",
            "linecolor": "white",
            "ticks": ""
           },
           "bgcolor": "#E5ECF6",
           "caxis": {
            "gridcolor": "white",
            "linecolor": "white",
            "ticks": ""
           }
          },
          "title": {
           "x": 0.05
          },
          "xaxis": {
           "automargin": true,
           "gridcolor": "white",
           "linecolor": "white",
           "ticks": "",
           "title": {
            "standoff": 15
           },
           "zerolinecolor": "white",
           "zerolinewidth": 2
          },
          "yaxis": {
           "automargin": true,
           "gridcolor": "white",
           "linecolor": "white",
           "ticks": "",
           "title": {
            "standoff": 15
           },
           "zerolinecolor": "white",
           "zerolinewidth": 2
          }
         }
        },
        "width": 700,
        "xaxis": {
         "anchor": "y",
         "domain": [
          0,
          1
         ],
         "title": {
          "text": "Genre"
         }
        },
        "yaxis": {
         "anchor": "x",
         "domain": [
          0,
          1
         ],
         "title": {
          "text": "Price"
         }
        }
       }
      }
     },
     "metadata": {},
     "output_type": "display_data"
    }
   ],
   "source": [
    "from turtle import width\n",
    "\n",
    "px.box(data_frame=books_df,x=books_df['Genre'],y=books_df['Price'],width=700,height=500)"
   ]
  },
  {
   "cell_type": "markdown",
   "metadata": {},
   "source": [
    "Trend of fiction and non-fiction over the years"
   ]
  },
  {
   "cell_type": "code",
   "execution_count": 41,
   "metadata": {
    "metadata": {}
   },
   "outputs": [
    {
     "data": {
      "image/png": "[encoded data removed]",
      "text/plain": [
       "<Figure size 720x576 with 1 Axes>"
      ]
     },
     "metadata": {
      "needs_background": "light"
     },
     "output_type": "display_data"
    }
   ],
   "source": [
    "plt.figure(figsize=[10,8])\n",
    "sns.countplot(data=books_df, x=books_df['Year'], hue=books_df['Genre'])\n",
    "plt.show()"
   ]
  },
  {
   "cell_type": "markdown",
   "metadata": {},
   "source": [
    "2014 analysis"
   ]
  },
  {
   "cell_type": "code",
   "execution_count": 42,
   "metadata": {
    "metadata": {}
   },
   "outputs": [
    {
     "data": {
      "image/png": "[encoded data removed]",
      "text/plain": [
       "<Figure size 864x288 with 2 Axes>"
      ]
     },
     "metadata": {
      "needs_background": "light"
     },
     "output_type": "display_data"
    }
   ],
   "source": [
    "books_2014=books_df[books_df['Year']==2014]\n",
    "fig, ax = plt.subplots(1, 2,figsize=(12, 4))\n",
    "books_2014.groupby('Genre').get_group('Non Fiction')['Author'].value_counts().head().plot.bar(ax=ax[0],xlabel='Authors (Non-Fiction)',ylabel='Number of books')\n",
    "books_2014.groupby('Genre').get_group('Fiction')['Author'].value_counts().head().plot.bar(ax=ax[1],xlabel='Authors (Fiction)',ylabel='Number of books')\n",
    "plt.suptitle('Amazon bestsellers authors in 2014 with genre')\n",
    "plt.show()"
   ]
  },
  {
   "cell_type": "markdown",
   "metadata": {},
   "source": [
    "Most Frequent word in the title of books"
   ]
  },
  {
   "cell_type": "code",
   "execution_count": 31,
   "metadata": {
    "metadata": {}
   },
   "outputs": [],
   "source": [
    "from wordcloud import WordCloud"
   ]
  },
  {
   "cell_type": "code",
   "execution_count": 32,
   "metadata": {
    "metadata": {}
   },
   "outputs": [
    {
     "data": {
      "image/png": "[encoded data removed]",
      "text/plain": [
       "<Figure size 1296x432 with 1 Axes>"
      ]
     },
     "metadata": {
      "needs_background": "light"
     },
     "output_type": "display_data"
    }
   ],
   "source": [
    "text = \" \".join(title for title in books_df['Name'])\n",
    "\n",
    "word_cloud = WordCloud(width=3600,\n",
    "                       height=1000,\n",
    "                       collocations = False, \n",
    "                       background_color = 'white',).generate(text)\n",
    "\n",
    "plt.figure(figsize=(18,6))\n",
    "plt.imshow(word_cloud)\n",
    "plt.show()"
   ]
  },
  {
   "cell_type": "markdown",
   "metadata": {},
   "source": [
    "Author with highest ratings"
   ]
  },
  {
   "cell_type": "code",
   "execution_count": 33,
   "metadata": {
    "metadata": {}
   },
   "outputs": [],
   "source": [
    "reviews=books_df['Reviews'].unique()"
   ]
  },
  {
   "cell_type": "code",
   "execution_count": 34,
   "metadata": {
    "metadata": {}
   },
   "outputs": [
    {
     "data": {
      "text/plain": [
       "[[17350, 'JJ Smith'],\n",
       " [2052, 'Stephen King'],\n",
       " [18979, 'Jordan B. Peterson'],\n",
       " [21424, 'George Orwell'],\n",
       " [7665, 'National Geographic Kids'],\n",
       " [12643, 'George R. R. Martin'],\n",
       " [19735, 'George R. R. Martin'],\n",
       " [19699, 'Amor Towles'],\n",
       " [5983, 'James Comey'],\n",
       " [23848, 'Fredrik BackmanFredrik Backman'],\n",
       " [460, 'Larry Schweikart'],\n",
       " [4149, 'Jaycee Dugard'],\n",
       " [5153, \"Madeleine L'Engle\"],\n",
       " [5013, 'Steve Harvey'],\n",
       " [2313, 'Adult Coloring Book Designs'],\n",
       " [2925, 'Blue Star Coloring'],\n",
       " [2951, 'Blue Star Coloring'],\n",
       " [2426, 'Coloring Books for Adults'],\n",
       " [9198, 'Ron Chernow'],\n",
       " [36348, 'Anthony DoerrAnthony Doerr'],\n",
       " [6310, 'Veronica Roth'],\n",
       " [15921, 'Chris Kyle'],\n",
       " [12159, 'Khaled Hosseini'],\n",
       " [798, 'Glenn Beck'],\n",
       " [9374, 'Neil deGrasse Tyson'],\n",
       " [491, 'Mark Twain'],\n",
       " [5360, 'DK'],\n",
       " [1909, 'Angie Grace'],\n",
       " [1296, 'Ina Garten'],\n",
       " [615, 'Ina Garten'],\n",
       " [61133, 'Michelle ObamaMichelle Obama'],\n",
       " [11113, 'Atul Gawande'],\n",
       " [10070, 'Ta-Nehisi CoatesTa-Nehisi Coates'],\n",
       " [3729, 'Bruce Springsteen'],\n",
       " [9769, 'Stephenie Meyer'],\n",
       " [471, 'Glenn Beck'],\n",
       " [14344, 'Bill Martin Jr.Bill Martin Jr.'],\n",
       " [4505, 'Jeff Kinney'],\n",
       " [10369, \"Sasha O'Hara\"],\n",
       " [16244, 'David Goggins'],\n",
       " [2884, 'Thomas Piketty'],\n",
       " [22614, 'Suzanne CollinsSuzanne CollinsSuzanne Collins'],\n",
       " [4761, 'Chrissy Teigen'],\n",
       " [1542, 'Francis ChanFrancis ChanFrancis Chan'],\n",
       " [6143, 'Kevin Kwan'],\n",
       " [4022, 'Marjorie Sarnat'],\n",
       " [3871, 'Marjorie Sarnat'],\n",
       " [4866, 'Abraham VergheseAbraham Verghese'],\n",
       " [1329, 'Brené Brown'],\n",
       " [4642, 'Malcolm Gladwell'],\n",
       " [1541, 'Charlaine Harris'],\n",
       " [1924, 'Charlaine Harris'],\n",
       " [2094, 'Charlaine Harris'],\n",
       " [10922, 'Rod CampbellRod CampbellRod CampbellRod Campbell'],\n",
       " [2137, 'George W. Bush'],\n",
       " [1651, 'Tony Hsieh'],\n",
       " [6679, 'American Psychiatric AssociationAmerican Psychiatric Association'],\n",
       " [6812, 'Jeff Kinney'],\n",
       " [3837, 'Jeff Kinney'],\n",
       " [6540, 'Jeff Kinney'],\n",
       " [7955, 'M Prefontaine'],\n",
       " [27098, 'Veronica RothVeronica Roth'],\n",
       " [17684, 'Veronica Roth'],\n",
       " [37, 'Zhi Gang Sha'],\n",
       " [15845, 'Stephen King'],\n",
       " [3181, 'Jeff Kinney'],\n",
       " [5062, 'Dav Pilkey'],\n",
       " [4786, 'Dav Pilkey'],\n",
       " [7235, 'Dav PilkeyDav Pilkey'],\n",
       " [12619, 'Dav Pilkey'],\n",
       " [9089, 'Dav Pilkey'],\n",
       " [5470, 'Dav Pilkey'],\n",
       " [5118, 'Jeff Kinney'],\n",
       " [2134, 'Marty Noble'],\n",
       " [2525, 'Daniel H. Pink'],\n",
       " [720, 'David Zinczenko'],\n",
       " [956, 'David Zinczenko'],\n",
       " [6346, 'Joel Fuhrman MDJoel Fuhrman MD'],\n",
       " [5505, 'Stephenie MeyerStephenie Meyer'],\n",
       " [28729, 'Tara WestoverTara Westover'],\n",
       " [5413, 'Johanna Basford'],\n",
       " [10721, 'Ray BradburyRay Bradbury'],\n",
       " [4370, 'J.K. Rowling'],\n",
       " [6042, 'Bob Woodward'],\n",
       " [23631, 'E L James'],\n",
       " [20262, 'E L James'],\n",
       " [47265, 'E L JamesE L James'],\n",
       " [13964, 'E L James'],\n",
       " [13677, 'Michael Wolff'],\n",
       " [17323, 'Roger PriddyRoger PriddyRoger PriddyRoger PriddyRoger Priddy'],\n",
       " [1555, 'Michael Pollan'],\n",
       " [3642, 'RH Disney'],\n",
       " [1215, 'John Heilemann'],\n",
       " [5594, 'George R.R. MartinGeorge R.R. MartinGeorge R.R. Martin'],\n",
       " [408, 'Peter A. Lillback'],\n",
       " [4799, 'Brian Kilmeade'],\n",
       " [14038, 'Giles AndreaeGiles AndreaeGiles AndreaeGiles AndreaeGiles Andreae'],\n",
       " [7660, 'Rachel Hollis'],\n",
       " [22288, 'Rachel HollisRachel Hollis'],\n",
       " [1365, 'Glenn Beck'],\n",
       " [14982, 'Harper Lee'],\n",
       " [9568, 'Adam Mansbach'],\n",
       " [1636, 'Sarah Palin'],\n",
       " [57271, 'Gillian FlynnGillian FlynnGillian Flynn'],\n",
       " [10141, 'Pretty Simple Press'],\n",
       " [3457, 'Jim CollinsJim CollinsJim CollinsJim Collins'],\n",
       " [8837, 'Margaret Wise BrownMargaret Wise BrownMargaret Wise Brown'],\n",
       " [7038, 'Sherri Duskey RinkerSherri Duskey Rinker'],\n",
       " [5972, 'David Perlmutter MD'],\n",
       " [25624, 'E L James'],\n",
       " [5476, 'Raina Telgemeier'],\n",
       " [5867, 'Lin-Manuel Miranda'],\n",
       " [4148, 'Phil Robertson'],\n",
       " [19622, 'J.K. Rowling'],\n",
       " [23973, 'J.K. Rowling'],\n",
       " [7758, 'J. K. Rowling'],\n",
       " [3146, 'J.K. Rowling'],\n",
       " [10052, 'J.K. Rowling'],\n",
       " [3564, 'Scholastic'],\n",
       " [13471, 'J. K. Rowling'],\n",
       " [1930, 'Mitch Albom'],\n",
       " [15779, 'Todd BurpoTodd Burpo'],\n",
       " [15526, 'J. D. VanceJ. D. Vance'],\n",
       " [3776, 'Joanna Gaines'],\n",
       " [25001, 'Dale CarnegieDale CarnegieDale CarnegieDale CarnegieDale Carnegie'],\n",
       " [5272, 'Howard Stern'],\n",
       " [3490, 'Brandon StantonBrandon Stanton'],\n",
       " [2812, 'Brandon Stanton'],\n",
       " [4896, 'Allie Brosh'],\n",
       " [9737, 'Hopscotch Girls'],\n",
       " [1320, 'James Patterson'],\n",
       " [16643, 'Ann Whitford PaulAnn Whitford Paul'],\n",
       " [7153, 'Gayle Forman'],\n",
       " [4571, 'Eric Larson'],\n",
       " [29651, 'Dan Brown'],\n",
       " [5299, 'Christopher Paolini'],\n",
       " [7396, 'Jennifer SmithJennifer Smith'],\n",
       " [7062, 'Lysa TerKeurst'],\n",
       " [19576, 'Sarah YoungSarah YoungSarah YoungSarah YoungSarah YoungSarah Young'],\n",
       " [978, 'RH Disney'],\n",
       " [4748, 'Stephen King'],\n",
       " [8393, 'David Grann'],\n",
       " [11391, \"Bill O'Reilly\"],\n",
       " [8634, \"Bill O'Reilly\"],\n",
       " [9342, \"Bill O'ReillyBill O'Reilly\"],\n",
       " [10927, \"Bill O'Reilly\"],\n",
       " [5235, \"Bill O'Reilly\"],\n",
       " [8916, \"Bill O'Reilly\"],\n",
       " [2507, 'Anthony Bourdain'],\n",
       " [3673, 'Rob ElliottRob ElliottRob Elliott'],\n",
       " [11881, 'Jill Twiss'],\n",
       " [6990, 'Rob ElliottRob ElliottRob ElliottRob ElliottRob Elliott'],\n",
       " [6132, 'Sheryl Sandberg'],\n",
       " [3014, 'Walter Isaacson'],\n",
       " [7550, 'Paper Peony Press'],\n",
       " [3828, 'Mark R. Levin'],\n",
       " [2752, 'Keith Richards'],\n",
       " [1467, 'Chris Cleave'],\n",
       " [1884, 'Alice Schertle'],\n",
       " [25706, 'Celeste Ng'],\n",
       " [8491, 'John Green'],\n",
       " [1649, 'Rob Bell'],\n",
       " [18613, 'Robert MunschRobert Munsch'],\n",
       " [9867, 'Joanna Gaines'],\n",
       " [1386, 'Ina Garten'],\n",
       " [10199, 'Admiral William H. McRaven'],\n",
       " [2926, 'Julia Child'],\n",
       " [17739, 'Rupi KaurRupi KaurRupi Kaur'],\n",
       " [3113, 'Adam Gasiewski'],\n",
       " [5542, 'Carol S. DweckCarol S. DweckCarol S. Dweck'],\n",
       " [26741, 'Suzanne CollinsSuzanne CollinsSuzanne Collins'],\n",
       " [5347, 'Crispin Boyer'],\n",
       " [7866, 'Amy Shields'],\n",
       " [5680, 'Stephenie Meyer'],\n",
       " [5178, 'Elie Wiesel'],\n",
       " [8093, 'Mark Owen'],\n",
       " [3192, 'Pete Souza'],\n",
       " [21834,\n",
       "  'Dr. SeussDr. SeussDr. SeussDr. SeussDr. SeussDr. SeussDr. SeussDr. Seuss'],\n",
       " [6169, 'Jeff KinneyDavid McCullough'],\n",
       " [4519, 'Elizabeth Strout'],\n",
       " [3163, 'Ann VoskampAnn Voskamp'],\n",
       " [1831, 'Sheryl Sandberg'],\n",
       " [18904, 'Dan Brown'],\n",
       " [21930, 'Christina Baker Kline'],\n",
       " [10426, 'Malcolm GladwellMalcolm Gladwell'],\n",
       " [10820, 'Naomi KleinbergNaomi Kleinberg'],\n",
       " [548, 'Rick Riordan'],\n",
       " [16990, 'Wizards RPG TeamWizards RPG TeamWizards RPG Team'],\n",
       " [3503, 'ScholasticMalcolm Gladwell'],\n",
       " [13616, 'Eben AlexanderEben Alexander'],\n",
       " [8580,\n",
       "  'American Psychological AssociationAmerican Psychological AssociationAmerican Psychological AssociationAmerican Psychological AssociationAmerican Psychological AssociationAmerican Psychological AssociationAmerican Psychological AssociationAmerican Psychological AssociationAmerican Psychological AssociationAmerican Psychological Association'],\n",
       " [4757, 'Golden Books'],\n",
       " [10009, 'Susan CainSusan Cain'],\n",
       " [1985, 'David PlattDavid Platt'],\n",
       " [22536, 'Ernest ClineErnest Cline'],\n",
       " [7150, 'Rush Limbaugh'],\n",
       " [3836, 'Rush Limbaugh'],\n",
       " [7802, 'Samin NosratSamin Nosrat'],\n",
       " [3619, 'Tatiana de Rosnay'],\n",
       " [23047, 'School ZoneSchool Zone'],\n",
       " [9366, 'Johanna Basford'],\n",
       " [1265, 'Justin Halpern'],\n",
       " [3923, 'Tucker Carlson'],\n",
       " [2272, 'Ian K. Smith M.D.'],\n",
       " [973, 'Charlaine Harris'],\n",
       " [220, 'Zhi Gang Sha'],\n",
       " [7827, 'Walter IsaacsonWalter Isaacson'],\n",
       " [9382, 'Nathan W. Pyle'],\n",
       " [5069, 'GallupGallupGallupGallupGallupGallupGallupGallupGallup'],\n",
       " [1583, 'Steven D. Levitt'],\n",
       " [1907, 'Chip Heath'],\n",
       " [23114, 'John Grisham'],\n",
       " [637, 'Doug LemovDoug Lemov'],\n",
       " [2314, 'Mike Moreno'],\n",
       " [4587, 'Timothy Ferriss'],\n",
       " [3477, 'Gary ChapmanGary ChapmanGary ChapmanGary ChapmanGary Chapman'],\n",
       " [25554, 'Gary ChapmanGary ChapmanGary ChapmanGary ChapmanGary Chapman'],\n",
       " [1680, 'W. Cleon Skousen'],\n",
       " [9325, 'Stephen R. CoveyStephen R. CoveyStephen R. CoveyStephen R. Covey'],\n",
       " [4725, 'Stephen R. CoveyStephen R. CoveyStephen R. Covey'],\n",
       " [35799, 'Paulo Coelho'],\n",
       " [2580, 'Edward Klein'],\n",
       " [11813, 'Garth SteinGarth Stein'],\n",
       " [3536, 'Michael Lewis'],\n",
       " [6600, 'Rick Riordan'],\n",
       " [1789, 'Mark Hyman M.D.'],\n",
       " [12361, 'Bessel van der Kolk M.D.'],\n",
       " [858, 'Bill Simmons'],\n",
       " [23148, 'Markus ZusakMarkus Zusak'],\n",
       " [8081, 'B. J. NovakB. J. Novak'],\n",
       " [23358, 'Daniel James BrownDaniel James Brown'],\n",
       " [9372, 'J.K. Rowling'],\n",
       " [4633, 'Thomas Campbell'],\n",
       " [13061, 'Amy RamosAmy Ramos'],\n",
       " [3523, 'John Grisham'],\n",
       " [2774, 'Delegates of the Constitutional\\x85'],\n",
       " [440, 'Jon Stewart'],\n",
       " [8922, 'Drew DaywaltDrew DaywaltDrew Daywalt'],\n",
       " [2023, 'Pierre Dukan'],\n",
       " [1859, 'Muriel Barbery'],\n",
       " [50482, 'John GreenJohn GreenJohn GreenJohn Green'],\n",
       " [3207,\n",
       "  'Patrick LencioniPatrick LencioniPatrick LencioniPatrick LencioniPatrick Lencioni'],\n",
       " [803, 'Gary Chapman'],\n",
       " [23308,\n",
       "  'Don Miguel RuizDon Miguel RuizDon Miguel RuizDon Miguel RuizDon Miguel RuizDon Miguel Ruiz'],\n",
       " [5836, 'Jeff Kinney'],\n",
       " [79446, 'Paula HawkinsPaula Hawkins'],\n",
       " [7747, 'Stieg LarssonStieg Larsson'],\n",
       " [7251, 'Stieg LarssonStieg Larsson'],\n",
       " [10559, 'Stieg LarssonStieg Larsson'],\n",
       " [5249, 'Sandra BoyntonSandra Boynton'],\n",
       " [33844, 'Donna TarttDonna Tartt'],\n",
       " [11616, 'F. Scott FitzgeraldF. Scott FitzgeraldF. Scott Fitzgerald'],\n",
       " [13609, 'John Grisham'],\n",
       " [8587, 'Mary Ann Shaffer'],\n",
       " [29442, 'Margaret Atwood'],\n",
       " [11098, 'Jonathan Cahn'],\n",
       " [9947, 'Angie Thomas'],\n",
       " [13871, 'Kathryn StockettKathryn StockettKathryn StockettKathryn Stockett'],\n",
       " [6982, 'Rick Riordan'],\n",
       " [32122, 'Suzanne CollinsSuzanne CollinsSuzanne Collins'],\n",
       " [16949, 'Suzanne CollinsSuzanne Collins'],\n",
       " [9289, 'Rebecca SklootRebecca SklootRebecca Skloot'],\n",
       " [7368, 'Laurel RandolphLaurel Randolph'],\n",
       " [4028, 'Randy Pausch'],\n",
       " [4628, 'Rick RiordanRick Riordan'],\n",
       " [5396, 'Patrick Thorpe'],\n",
       " [4247, 'Daniel LipkowitzDaniel Lipkowitz'],\n",
       " [22641, 'Marie KondōMarie KondōMarie KondōMarie Kondō'],\n",
       " [6222, 'John Grisham'],\n",
       " [4506, 'Rick Riordan'],\n",
       " [8747, 'Dan Brown'],\n",
       " [1655, 'Stephen Kendrick'],\n",
       " [7861, 'Chip Gaines'],\n",
       " [6247, 'Rick Riordan'],\n",
       " [39459, 'Andy Weir'],\n",
       " [10101, 'James Dashner'],\n",
       " [5898, 'Jeff Kinney'],\n",
       " [2744, 'The Washington Post'],\n",
       " [49288, 'Kristin HannahKristin Hannah'],\n",
       " [1201,\n",
       "  'The College BoardThe College BoardThe College BoardThe College BoardThe College Board'],\n",
       " [807, 'The College Board'],\n",
       " [3759, 'Paula McLainAudrey Niffenegger'],\n",
       " [2663, 'Ree Drummond'],\n",
       " [3428, 'Ree Drummond'],\n",
       " [2876, 'Ree Drummond'],\n",
       " [3601, 'Dr. Steven R Gundry MD'],\n",
       " [7058, 'Dr. Steven R Gundry MD'],\n",
       " [9784, 'Deborah DiesenDeborah Diesen'],\n",
       " [10795, 'Charles Duhigg'],\n",
       " [10191, 'James Patterson'],\n",
       " [14493, 'John Grisham'],\n",
       " [2186, 'Rick Riordan'],\n",
       " [1204, 'F. A. Hayek'],\n",
       " [2091, 'Rick Riordan'],\n",
       " [19720, 'William P. YoungWilliam P. Young'],\n",
       " [2122, 'Stephenie Meyer'],\n",
       " [27536, 'Alex Michaelides'],\n",
       " [4290, 'Rick Riordan'],\n",
       " [26490, 'Mark MansonMark MansonMark Manson'],\n",
       " [5487, 'Rupi Kaur'],\n",
       " [6377, 'Jeff Kinney'],\n",
       " [1463, 'Rick Riordan'],\n",
       " [11550, 'Dave Ramsey'],\n",
       " [3801, 'Stephenie Meyer'],\n",
       " [3796, 'Jeff Kinney'],\n",
       " [9030, 'Dinah Bucholz'],\n",
       " [19546,\n",
       "  'Eric CarleEric CarleEric CarleEric CarleEric CarleEric CarleEric Carle'],\n",
       " [7508, 'Melissa Hartwig UrbanMelissa Hartwig UrbanMelissa Hartwig Urban'],\n",
       " [8842,\n",
       "  'Emily Winfield MartinEmily Winfield MartinEmily Winfield MartinEmily Winfield Martin'],\n",
       " [30183, 'Craig SmithCraig Smith'],\n",
       " [7034, 'Charles Krauthammer'],\n",
       " [11034, 'Daniel KahnemanDaniel Kahneman'],\n",
       " [7932, 'Jay Asher'],\n",
       " [1904, 'Jon Meacham'],\n",
       " [3319, 'Greg MortensonGreg Mortenson'],\n",
       " [11128, 'Thug KitchenThug KitchenThug KitchenThug Kitchen'],\n",
       " [5977, 'Tina Fey'],\n",
       " [26234, 'Harper LeeHarper LeeHarper LeeHarper LeeHarper Lee'],\n",
       " [4360, 'Timothy Ferriss'],\n",
       " [2282, 'Robert Jordan'],\n",
       " [438, 'Edward M. Kennedy'],\n",
       " [11676, 'Stephenie Meyer'],\n",
       " [2586, 'DK'],\n",
       " [29673,\n",
       "  'Laura HillenbrandLaura HillenbrandLaura HillenbrandLaura HillenbrandLaura Hillenbrand'],\n",
       " [6740, 'Stephen King'],\n",
       " [5956, 'Mark R. Levin'],\n",
       " [6108, 'Silly Bear'],\n",
       " [4585, 'Lysa TerKeurst'],\n",
       " [3829, 'Alan Moore'],\n",
       " [8958, 'Sara Gruen'],\n",
       " [5492, 'Hillary Rodham Clinton'],\n",
       " [9292, 'Randall Munroe'],\n",
       " [1873, 'Dr. Seuss'],\n",
       " [8170, 'Adir Levy'],\n",
       " [3341, 'Heidi Murkoff'],\n",
       " [7497, 'William DavisWilliam Davis'],\n",
       " [13779, 'Paul Kalanithi'],\n",
       " [87841, 'Delia Owens'],\n",
       " [9967, 'Maurice Sendak'],\n",
       " [6669, 'The Staff of The Late Show with\\x85'],\n",
       " [17044, 'Cheryl Strayed'],\n",
       " [10760, 'Ken Follett'],\n",
       " [1302, 'Geneen Roth'],\n",
       " [21625, 'R. J. PalacioR. J. PalacioR. J. PalacioR. J. PalacioR. J. Palacio'],\n",
       " [9413, 'Jeff Kinney'],\n",
       " [14331, 'Jen SinceroJen SinceroJen SinceroJen Sincero']]"
      ]
     },
     "execution_count": 34,
     "metadata": {},
     "output_type": "execute_result"
    }
   ],
   "source": [
    "s=[[i,books_df.groupby(['Reviews'])['Author'].sum()[i]] for i in reviews]\n",
    "s\n"
   ]
  },
  {
   "cell_type": "markdown",
   "metadata": {},
   "source": [
    "Top 10 Authors with Most Books In Amazon Best Seller 2009-2019"
   ]
  },
  {
   "cell_type": "code",
   "execution_count": 35,
   "metadata": {
    "metadata": {}
   },
   "outputs": [
    {
     "data": {
      "image/png": "[encoded data removed]",
      "text/plain": [
       "<Figure size 1080x360 with 1 Axes>"
      ]
     },
     "metadata": {
      "needs_background": "light"
     },
     "output_type": "display_data"
    }
   ],
   "source": [
    "top_authors=books_df['Author'].value_counts().head(10)\n",
    "plt.figure(figsize=(15,5))\n",
    "sns.barplot(x=top_authors.index,y=top_authors.values)\n",
    "plt.xticks(rotation=+90)\n",
    "plt.title('Top 10 Authors with Most Books In Amazon Best Seller 2009-2019')\n",
    "plt.ylabel('Number Of Books')\n",
    "plt.xlabel('Author')\n",
    "plt.show()"
   ]
  },
  {
   "cell_type": "markdown",
   "metadata": {},
   "source": [
    "Maximum money earned by which author"
   ]
  },
  {
   "cell_type": "code",
   "execution_count": 36,
   "metadata": {
    "metadata": {}
   },
   "outputs": [
    {
     "data": {
      "text/plain": [
       "Author\n",
       "American Psychological Association    460\n",
       "Name: Price, dtype: int64"
      ]
     },
     "execution_count": 36,
     "metadata": {},
     "output_type": "execute_result"
    }
   ],
   "source": [
    "Author_group = books_df.groupby(['Author'])['Price'].sum()\n",
    "max_earned = Author_group[Author_group==Author_group.max()]\n",
    "max_earned"
   ]
  },
  {
   "cell_type": "code",
   "execution_count": 37,
   "metadata": {
    "metadata": {}
   },
   "outputs": [
    {
     "data": {
      "text/plain": [
       "-0.1539785817043592"
      ]
     },
     "execution_count": 37,
     "metadata": {},
     "output_type": "execute_result"
    }
   ],
   "source": [
    "books_df['Year'].corr(books_df['Price'])"
   ]
  },
  {
   "cell_type": "markdown",
   "metadata": {},
   "source": [
    "Comparing genre using Pie chart"
   ]
  },
  {
   "cell_type": "code",
   "execution_count": 38,
   "metadata": {
    "metadata": {}
   },
   "outputs": [
    {
     "data": {
      "text/plain": [
       "<AxesSubplot: ylabel='Genre'>"
      ]
     },
     "execution_count": 38,
     "metadata": {},
     "output_type": "execute_result"
    },
    {
     "data": {
      "image/png": "[encoded data removed]",
      "text/plain": [
       "<Figure size 432x504 with 1 Axes>"
      ]
     },
     "metadata": {},
     "output_type": "display_data"
    }
   ],
   "source": [
    "x = books_df['Genre'].value_counts()\n",
    "x.plot.pie(autopct='%1.01f%%',colors=['#033E3E','#50C878'],figsize=(6,7))"
   ]
  },
  {
   "cell_type": "code",
   "execution_count": 39,
   "metadata": {
    "metadata": {}
   },
   "outputs": [
    {
     "data": {
      "text/html": [
       "<div>\n",
       "<style scoped>\n",
       "    .dataframe tbody tr th:only-of-type {\n",
       "        vertical-align: middle;\n",
       "    }\n",
       "\n",
       "    .dataframe tbody tr th {\n",
       "        vertical-align: top;\n",
       "    }\n",
       "\n",
       "    .dataframe thead th {\n",
       "        text-align: right;\n",
       "    }\n",
       "</style>\n",
       "<table border=\"1\" class=\"dataframe\">\n",
       "  <thead>\n",
       "    <tr style=\"text-align: right;\">\n",
       "      <th></th>\n",
       "      <th>User Rating</th>\n",
       "      <th>Reviews</th>\n",
       "      <th>Price</th>\n",
       "    </tr>\n",
       "    <tr>\n",
       "      <th>Genre</th>\n",
       "      <th></th>\n",
       "      <th></th>\n",
       "      <th></th>\n",
       "    </tr>\n",
       "  </thead>\n",
       "  <tbody>\n",
       "    <tr>\n",
       "      <th>Fiction</th>\n",
       "      <td>4.648333</td>\n",
       "      <td>3764110</td>\n",
       "      <td>10.850000</td>\n",
       "    </tr>\n",
       "    <tr>\n",
       "      <th>Non Fiction</th>\n",
       "      <td>4.595161</td>\n",
       "      <td>2810195</td>\n",
       "      <td>14.841935</td>\n",
       "    </tr>\n",
       "  </tbody>\n",
       "</table>\n",
       "</div>"
      ],
      "text/plain": [
       "             User Rating  Reviews      Price\n",
       "Genre                                       \n",
       "Fiction         4.648333  3764110  10.850000\n",
       "Non Fiction     4.595161  2810195  14.841935"
      ]
     },
     "execution_count": 39,
     "metadata": {},
     "output_type": "execute_result"
    }
   ],
   "source": [
    "books_df.groupby('Genre').agg({'User Rating':'mean','Reviews':'sum','Price':'mean'})"
   ]
  },
  {
   "cell_type": "code",
   "execution_count": 40,
   "metadata": {
    "metadata": {}
   },
   "outputs": [
    {
     "data": {
      "image/png": "[encoded data removed]",
      "text/plain": [
       "<Figure size 1152x576 with 1 Axes>"
      ]
     },
     "metadata": {
      "needs_background": "light"
     },
     "output_type": "display_data"
    },
    {
     "data": {
      "image/png": "[encoded data removed]",
      "text/plain": [
       "<Figure size 1152x576 with 1 Axes>"
      ]
     },
     "metadata": {
      "needs_background": "light"
     },
     "output_type": "display_data"
    },
    {
     "data": {
      "image/png": "[encoded data removed]",
      "text/plain": [
       "<Figure size 1152x576 with 1 Axes>"
      ]
     },
     "metadata": {
      "needs_background": "light"
     },
     "output_type": "display_data"
    }
   ],
   "source": [
    "for col in ['User Rating','Reviews','Price']:\n",
    "    plt.figure(figsize = (16,8))\n",
    "    sns.barplot(data=books_df,x =\"Year\",y = col,hue =\"Genre\",palette=[\"#e28743\",\"#81200c\"])\n",
    "    plt.legend(loc =\"upper left\")\n",
    "    plt.title(\"Genre-wise Distribution of \"+ col + \" (2009- 2019)\", fontsize = 18)\n",
    "    plt.xlabel(\"Year\", fontsize = 15)\n",
    "    plt.ylabel(col,fontsize = 15)\n",
    "    plt.show()"
   ]
  },
  {
   "cell_type": "markdown",
   "metadata": {},
   "source": [
    "Overall Avg and Median of Ratings, Ratings per year for Fiction > Non-Fiction, but No. of bestsellers for Non-Fiction > Fiction. That means Non-Fiction is popular among more No. of people but their appreciation/liking is lesser than how the people buying Fiction appreciate it."
   ]
  },
  {
   "cell_type": "markdown",
   "metadata": {},
   "source": [
    "This Bar Chart shows a trend of over the years(2009 -2019) sales of fiction books and non fiction books. We can see from this chart that fiction generally had more sales than non-fiction from 2009 till 2017, then non-fiction started leading from 2018.\n",
    "\n",
    "We can also see that there was a general rise in fiction sales from 2009 till it reached its peak at 2014, then an overall decline from 2014 till 2018. Then a sharp increase from 2018 to 2019.\n",
    "\n",
    "We can also see that non-fiction sales generally had an increasing number of sales over the years with slight deviations in 2013 and 2017. We can also see that non-fiction sales reached its peak in 2018."
   ]
  },
  {
   "cell_type": "markdown",
   "metadata": {},
   "source": [
    "The peak of sales of Fiction Books was in the year 2013-2014. The peak of sales of Non - Fiction Books was in the year 2017-2018."
   ]
  },
  {
   "cell_type": "markdown",
   "metadata": {},
   "source": [
    "Mean User Rating & Total number of Reviews:\n",
    "Fiction Genre has higher user rating and number of reviews than Non Fiction.\n",
    "Average Price of a book:\n",
    "Dropped from 15 USD levels to around 10 USD in the span of 2009-2019."
   ]
  },
  {
   "cell_type": "markdown",
   "metadata": {},
   "source": [
    "User Rating¶\n",
    "Over the years, Fiction Genre is rated slightly higher Non Fiction.\n",
    "Total number of Reviews:\n",
    "Over the years, Fiction Genre has always had more reviews than Non Fiction.\n",
    "However, reviews for Non Fiction has been steadily increasing.\n",
    "Average Price of a book:\n",
    "Non Fiction books are 50% more expensive at 14.84 USD than average cost of Fiction books at 10.85 USD."
   ]
  }
 ],
 "metadata": {
  "kernelspec": {
   "display_name": "Python 3.10.0 64-bit",
   "language": "python",
   "name": "python3"
  },
  "language_info": {
   "codemirror_mode": {
    "name": "ipython",
    "version": 3
   },
   "file_extension": ".py",
   "mimetype": "text/x-python",
   "name": "python",
   "nbconvert_exporter": "python",
   "pygments_lexer": "ipython3",
   "version": "3.10.2"
  },
  "orig_nbformat": 4,
  "vscode": {
   "interpreter": {
    "hash": "369f2c481f4da34e4445cda3fffd2e751bd1c4d706f27375911949ba6bb62e1c"
   }
  }
 },
 "nbformat": 4,
 "nbformat_minor": 2
}
